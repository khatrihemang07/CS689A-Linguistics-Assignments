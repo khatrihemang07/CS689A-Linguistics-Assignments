{
 "cells": [
  {
   "cell_type": "markdown",
   "metadata": {},
   "source": [
    "# Loading English Data"
   ]
  },
  {
   "cell_type": "code",
   "execution_count": 19,
   "metadata": {
    "execution": {
     "iopub.execute_input": "2024-04-17T13:21:05.067154Z",
     "iopub.status.busy": "2024-04-17T13:21:05.066807Z",
     "iopub.status.idle": "2024-04-17T13:21:05.089775Z",
     "shell.execute_reply": "2024-04-17T13:21:05.088899Z",
     "shell.execute_reply.started": "2024-04-17T13:21:05.067087Z"
    }
   },
   "outputs": [
    {
     "data": {
      "text/plain": [
       "['PM said that Ayushman Bharat Scheme will create an entirely new ecosystem which helps to create healthier India.\\n',\n",
       " 'India’s test was not only successful but in a way, India had demonstrated its might in the field of science and technology.\\n',\n",
       " 'Happy that the Bharat Ratna has been conferred on Bhupen Da.” the Prime Minister said.\\n',\n",
       " 'I congratulate these young friends and members of the school in Chandrapur, from the core of my heart.\\n',\n",
       " 'From the point of larger scale of operations and higher value addition, an investor is also attracted by a large domestic market size, availability of skilled labour and good physical infrastructure.\\n',\n",
       " 'During the operation, a sailor from Thailand Navy sacrificed his life.\\n',\n",
       " 'We wish to build land, sea and air connectivity to this dynamic region.\\n',\n",
       " 'This very month, 20 year old Vedangi Kulkarni from Pune became the fastest Asian to traverse the globe riding a bicycle.\\n',\n",
       " 'The two leaders will attend a public function to mark the commencement of work of India’s first high-speed rail project between Ahmedabad and Mumbai, on 14th of September.\\n',\n",
       " 'Almost all the countries in the world made Yoga Day their own.\\n']"
      ]
     },
     "execution_count": 19,
     "metadata": {},
     "output_type": "execute_result"
    }
   ],
   "source": [
    "with open('test_random.en','r',encoding='utf-8') as f:\n",
    "    english_sentences=f.readlines()\n",
    "\n",
    "english_sentences[:10]"
   ]
  },
  {
   "cell_type": "markdown",
   "metadata": {},
   "source": [
    "# Loading Hindi Data"
   ]
  },
  {
   "cell_type": "code",
   "execution_count": 20,
   "metadata": {
    "execution": {
     "iopub.execute_input": "2024-04-17T13:21:05.091825Z",
     "iopub.status.busy": "2024-04-17T13:21:05.091190Z",
     "iopub.status.idle": "2024-04-17T13:21:05.102621Z",
     "shell.execute_reply": "2024-04-17T13:21:05.101567Z",
     "shell.execute_reply.started": "2024-04-17T13:21:05.091789Z"
    }
   },
   "outputs": [
    {
     "data": {
      "text/plain": [
       "['प्रधानमंत्री ने कहा कि आयुष्\\u200dमान भारत योजना पूरी तरह से एक नई परस्\\u200dपर संबद्ध व्\\u200dयवस्\\u200dथा है जो स्\\u200dवस्\\u200dथ भारत बनाने में मदद करेगी।\\n',\n",
       " 'भारत का परीक्षण सफल रहा और एक तरह से कहें तो विज्ञान और तकनीक के क्षेत्र में भारत ने अपनी ताक़त का प्रदर्शन किया था।\\n',\n",
       " 'मुझे प्रसन्नता है कि भूपेन दा को भारत रत्न से सम्मानित किया गया।”\\n',\n",
       " 'मैं चंद्रपुर के स्कूल के लोगों को, इन मेरे नन्हे-मुन्हे साथियों को, ह्रदय से बहुत-बहुत बधाई देता हूँ।\\n',\n",
       " 'परिचालन के व्\\u200dयापक स्\\u200dतर और उच्\\u200dच मूल्\\u200dयवर्धन की दृष्टि से कोई भी निवेशक विशाल घरेलू बाजार, कौशल कामगारों की उपलब्\\u200dधता और बेहतर भौतिक बुनियादी ढांचे से भी आकर्षित होता है।\\n',\n",
       " 'इस पूरे operation में थाईलैंड की नौसेना के एक जवान को अपनी जान भी गँवानी पड़ी।\\n',\n",
       " 'हम इस क्षेत्र में भूमि, समुद्र और वायु संपर्क बनाना चाहते हैं।\\n',\n",
       " 'इसी महीने पुणे की एक 20 साल की बेटी वेदांगी कुलकर्णी साइकल से दुनिया का चक्कर लगाने वाली सबसे तेज एशियाई बन गयी हैं।\\n',\n",
       " 'दोनों नेता अहमदाबाद और मुंबई के बीच चलने वाली भारत की तेज गति रेल परियोजना के भारत में निर्माण के शुभांरभ के लिए 14 सितंबर को आयोजित एक सार्वजनिक समारोह में भाग लेंगे।\\n',\n",
       " 'दुनिया के क़रीब-क़रीब सभी देशों ने योग के इस अवसर को अपना अवसर बना दिया।\\n']"
      ]
     },
     "execution_count": 20,
     "metadata": {},
     "output_type": "execute_result"
    }
   ],
   "source": [
    "with open('test_random.hi','r',encoding='utf-8') as f:\n",
    "    hindi_sentences=f.readlines()\n",
    "\n",
    "hindi_sentences[:10]"
   ]
  },
  {
   "cell_type": "markdown",
   "metadata": {},
   "source": [
    "# Loading Gujarati Data"
   ]
  },
  {
   "cell_type": "code",
   "execution_count": 21,
   "metadata": {
    "execution": {
     "iopub.execute_input": "2024-04-17T13:21:05.103907Z",
     "iopub.status.busy": "2024-04-17T13:21:05.103635Z",
     "iopub.status.idle": "2024-04-17T13:21:05.113785Z",
     "shell.execute_reply": "2024-04-17T13:21:05.112873Z",
     "shell.execute_reply.started": "2024-04-17T13:21:05.103884Z"
    },
    "scrolled": true
   },
   "outputs": [
    {
     "data": {
      "text/plain": [
       "['પ્રધાનમંત્રીએ જણાવ્યું હતું કે, આયુષ્માન ભારત યોજના સંપૂર્ણપણે નવી ઇકોસિસ્ટમ ઊભી કરશે, જે સ્વસ્થ ભારતનું નિર્માણ કરવામાં મદદ કરશે.\\n',\n",
       " 'ભારતનું પરીક્ષણ સફળ રહ્યું અને એક રીતે કહીએ તો વિજ્ઞાન અને ટેક્નોલોજીના ક્ષેત્રમાં ભારતે પોતાની તાકાતનું પ્રદર્શન કર્યું હતું.\\n',\n",
       " 'મને ખુશી છે કે, ભૂપેન દાને ભારતરત્નથી સન્માનિત કરવામાં આવ્યાં છે.”\\n',\n",
       " 'હું ચંદ્રપુરની શાળાના લોકોને, મારા આ નાના સાથીઓને, હૃદયથી ખૂબ જ અભિનંદન આપું છું.\\n',\n",
       " 'વિશાળ પ્રમાણમાં કામગીરી અને ઉચ્ચ નફાકારકતાથી રોકાણકારો સ્થાનિક બજારનું કદ, કૌશલ્ય ધરાવતા કર્મચારીઓ અને સારા માળખાને પણ ઝંખે છે.\\n',\n",
       " 'આ પૂરી કાર્યવાહીમાં થાઇલેન્ડના નૌકાદળના એક જવાને પોતાનો જીવ પણ ગુમાવવો પડ્યો.\\n',\n",
       " 'અમે આ ગતિશીલ વિસ્તારમાં જમીન, દરિયાઈ અને હવાઈ જોડાણ ઊભું કરવા ઇચ્છીએ છીએ.\\n',\n",
       " 'આ મહિને પૂણેની એક 20 વર્ષની દિકરી વેદાંગી કુલકર્ણી સાઇકલથી દુનિયાનું ભ્રમણ કરનારી સૌથી ઝડપી એશિયાઇ બની ગઇ છે.\\n',\n",
       " 'બંને નેતાઓ 14 સપ્ટેમ્બરના રોજ અમદાવાદ અને મુંબઈ વચ્ચે ભારતનાપ્રથમ હાઈ-સ્પીડ રેલ પ્રોજેક્ટના કાર્યની શરૂઆત કરાવવા જાહેર સમારંભમાં હાજરી આપશે.\\n',\n",
       " 'દુનિયાના લગભગ બધા દેશોએ યોગના આ અવસરને પોતાનો અવસર બનાવી દીધો છે.\\n']"
      ]
     },
     "execution_count": 21,
     "metadata": {},
     "output_type": "execute_result"
    }
   ],
   "source": [
    "with open('test_random.gu','r',encoding='utf-8') as f:\n",
    "    gujarati_sentences=f.readlines()\n",
    "\n",
    "gujarati_sentences[:10]"
   ]
  },
  {
   "cell_type": "code",
   "execution_count": 22,
   "metadata": {},
   "outputs": [
    {
     "data": {
      "text/plain": [
       "['प्रधानमंत्री ने कहा कि आयुष्मान भारत योजना से एक पूरी तरह से नया पारिस्थितिकी तंत्र बनाया जाएगा जो स्वस्थ भारत बनाने में मदद करेगा\\n',\n",
       " 'भारत का परीक्षण न केवल सफल रहा बल्कि एक तरह से भारत ने विज्ञान और प्रौद्योगिकी के क्षेत्र में अपनी ताकत का प्रदर्शन किया था। \\n',\n",
       " 'प्रधानमंत्री ने कहा कि मुझे खुशी है कि भूपेन दा को भारत रत्न से सम्मानित किया गया है।\\n',\n",
       " 'मैं चंद्रपुर के इन युवा मित्रों और स्कूल के सदस्यों को हृदय से बधाई देता हूं। \\n',\n",
       " 'बड़े पैमाने पर संचालन और उच्च मूल्य जोड़ने के मामले में, एक निवेशक को एक बड़े घरेलू बाजार आकार, कुशल श्रम की उपलब्धता\\n',\n",
       " 'ऑपरेशन के दौरान थाईलैंड की नौसेना के एक नाविक ने अपनी जान दे दी।\\n',\n",
       " 'हम इस गतिशील क्षेत्र के लिए भूमि, समुद्र और हवाई संपर्क बनाना चाहते हैं। \\n',\n",
       " 'इसी महीने पुणे के 20 वर्षीय वेदांगी कुलकरणी दुनिया भर में सबसे तेज साइकिल से सफर करने वाले एशियाई बन गए\\n',\n",
       " 'दोनों नेता 14 सितंबर को अहमदाबाद और मुंबई के बीच भारत की पहली हाई स्पीड रेल परियोजना के कामकाज की शुरुआत के अवसर\\n',\n",
       " 'दुनिया के लगभग सभी देशों ने योग दिवस को अपना बनाया है।\\n']"
      ]
     },
     "execution_count": 22,
     "metadata": {},
     "output_type": "execute_result"
    }
   ],
   "source": [
    "with open('nllb/translated_english_hindi.txt','r',encoding='utf-8') as f:\n",
    "    translated_english_hindi=f.readlines()\n",
    "\n",
    "translated_english_hindi[:10]"
   ]
  },
  {
   "cell_type": "code",
   "execution_count": 23,
   "metadata": {},
   "outputs": [
    {
     "data": {
      "text/plain": [
       "['The Prime Minister said that Ayushman Bharat Yojana is a completely new way of connecting which will help to build a healthy\\n',\n",
       " \"India's test was successful and in a way, India had demonstrated its strength in the field of science and technology.\\n\",\n",
       " 'I am delighted that Bhupene Da has been honoured with the Bharat Ratna.\\n',\n",
       " 'I congratulate the people of Chandrampur school, these my younger friends, very much.\\n',\n",
       " 'In terms of operational growth and capital growth, any investor is also attracted by the huge domestic market, the availability of skil\\n',\n",
       " 'During this operation, a Thai Navy soldier lost his life.\\n',\n",
       " 'We want to create land, sea and air connections in this area.\\n',\n",
       " 'This month, a 20-year-old daughter from Pune, Vedangi Kulkarni, has become the fastest Asian to circumnavig\\n',\n",
       " \"The two leaders will attend a public ceremony on September 14 to mark the start of construction of India's fast-paced rail project\\n\",\n",
       " 'Nearly all countries of the world have made this occasion of yoga their own.\\n']"
      ]
     },
     "execution_count": 23,
     "metadata": {},
     "output_type": "execute_result"
    }
   ],
   "source": [
    "with open('nllb/translated_hindi_english.txt','r',encoding='utf-8') as f:\n",
    "    translated_hindi_english=f.readlines()\n",
    "\n",
    "translated_hindi_english[:10]"
   ]
  },
  {
   "cell_type": "code",
   "execution_count": 24,
   "metadata": {},
   "outputs": [
    {
     "data": {
      "text/plain": [
       "['પ્રધાનમંત્રીએ જણાવ્યું હતું કે, આયુષમાન ભારત યોજના એક સંપૂર્ણ નવા પડાવ પર જોડાયેલી છે જે સ્વસ્થ ભારતનું નિર્માણ કરવામાં\\n',\n",
       " 'ભારતનું પરીક્ષણ સફળ રહ્યું અને એક રીતે કહીએ તો વિજ્ઞાન અને ટેકનોલોજીના ક્ષેત્રમાં ભારતે પોતાની તાકાતનું પ્રદર્શન કર્યું હતું\\n',\n",
       " 'મને ખુશી છે કે ભુપેન દાને ભારત રત્નથી સન્માનિત કરવામાં આવ્યા છે.\\n',\n",
       " 'હું ચંદ્રપુરના શાળાના લોકોને, મારા આ નાના-મોના સાથીઓને હૃદયપૂર્વક ખૂબ-ખૂબ અભિનંદ\\n',\n",
       " 'ઓપરેશનલ વૃદ્ધિ અને ઉચ્ચ મૂડીકરણની દ્રષ્ટિએ કોઈપણ રોકાણકાર વિશાળ સ્થાનિક બજાર, કુશળ કામદારોની ઉપલબ્ધતા અને\\n',\n",
       " 'આ સમગ્ર કામગીરીમાં થાઈલેન્ડના નૌસેનાના એક જવાનને પણ પોતાનો જીવ ગુમાવવો પડ્યો હતો.\\n',\n",
       " 'અમે આ ક્ષેત્રમાં જમીન, સમુદ્ર અને હવાઈ જોડાણ બનાવવા માગીએ છીએ.\\n',\n",
       " 'આ જ મહિને પુણેની 20 વર્ષની દીકરી વેદાંગી કુલકર્ની સાયકલથી દુનિયાની ફરતી\\n',\n",
       " 'બંને નેતાઓ 14 સપ્ટેમ્બરે અમદાવાદ અને મુંબઈ વચ્ચે ચાલી રહેલા ભારતના ઝડપી રેલ પ્રોજેક્ટના ભારતમાં નિર્માણ\\n',\n",
       " 'દુનિયાના લગભગ તમામ દેશોએ યોગના આ અવસરને પોતાનો અવસર બનાવ્યો છે.\\n']"
      ]
     },
     "execution_count": 24,
     "metadata": {},
     "output_type": "execute_result"
    }
   ],
   "source": [
    "with open('nllb/translated_hindi_gujarati.txt','r',encoding='utf-8') as f:\n",
    "    translated_hindi_gujarati=f.readlines()\n",
    "\n",
    "translated_hindi_gujarati[:10]"
   ]
  },
  {
   "cell_type": "code",
   "execution_count": 25,
   "metadata": {},
   "outputs": [
    {
     "data": {
      "text/plain": [
       "['प्रधानमंत्री ने कहा कि आयुष्मान भारत योजना एक पूरी तरह से नया पारिस्थितिकी तंत्र पैदा करेगी, जो स्वस्थ भारत के निर्माण में मदद\\n',\n",
       " 'भारत का परीक्षण सफल रहा और एक तरह से भारत ने विज्ञान और प्रौद्योगिकी के क्षेत्र में अपनी ताकत का प्रदर्शन किया।\\n',\n",
       " 'मुझे खुशी है कि भूपेन दान को भारतरत् न से सम्मानित किया गया है।\\n',\n",
       " 'मैं चंद्रपुर के स्कूल के लोगों को, मेरे इन छोटे साथियों को, हृदय से बहुत-बहुत बधाई देता हूं।\\n',\n",
       " 'बड़े पैमाने पर परिचालन और उच्च लाभप्रदता के साथ निवेशक स्थानीय बाजार के आकार, कुशल कर्मचारियों और अच्छे ढांचे की भी\\n',\n",
       " 'इस पूरी कार्रवाई में थाईलैंड के नौसेना के एक जवान को अपनी जान भी खोनी पड़ी। \\n',\n",
       " 'हम इस गतिशील क्षेत्र में भूमि, समुद्री और हवाई संपर्क स्थापित करना चाहते हैं।\\n',\n",
       " 'इस महीने पुणे की एक 20 वर्षीय लड़की वेदांगी कुलकर्णी साइकिल से दुनिया की सबसे तेज रफ्तार से यात्रा करने\\n',\n",
       " 'दोनों नेता 14 सितंबर को अहमदाबाद और मुंबई के बीच भारत की पहली हाई-स्पीड रेल परियोजना के काम की शुरुआत के लिए\\n',\n",
       " 'दुनिया के लगभग सभी देशों ने योग के इस अवसर को अपना अवसर बना दिया है।\\n']"
      ]
     },
     "execution_count": 25,
     "metadata": {},
     "output_type": "execute_result"
    }
   ],
   "source": [
    "with open('nllb/translated_gujarati_hindi.txt','r',encoding='utf-8') as f:\n",
    "    translated_gujarati_hindi=f.readlines()\n",
    "\n",
    "translated_gujarati_hindi[:10]"
   ]
  },
  {
   "cell_type": "markdown",
   "metadata": {},
   "source": [
    "# BLEU Score"
   ]
  },
  {
   "cell_type": "code",
   "execution_count": 26,
   "metadata": {},
   "outputs": [
    {
     "name": "stdout",
     "output_type": "stream",
     "text": [
      "Requirement already satisfied: indic-nlp-library in c:\\users\\din_djarin\\anaconda3\\lib\\site-packages (0.92)\n",
      "Requirement already satisfied: sphinx-argparse in c:\\users\\din_djarin\\anaconda3\\lib\\site-packages (from indic-nlp-library) (0.4.0)\n",
      "Requirement already satisfied: sphinx-rtd-theme in c:\\users\\din_djarin\\anaconda3\\lib\\site-packages (from indic-nlp-library) (2.0.0)\n",
      "Requirement already satisfied: morfessor in c:\\users\\din_djarin\\anaconda3\\lib\\site-packages (from indic-nlp-library) (2.0.6)\n",
      "Requirement already satisfied: pandas in c:\\users\\din_djarin\\anaconda3\\lib\\site-packages (from indic-nlp-library) (2.0.3)\n",
      "Requirement already satisfied: numpy in c:\\users\\din_djarin\\anaconda3\\lib\\site-packages (from indic-nlp-library) (1.24.3)\n",
      "Requirement already satisfied: python-dateutil>=2.8.2 in c:\\users\\din_djarin\\anaconda3\\lib\\site-packages (from pandas->indic-nlp-library) (2.8.2)\n",
      "Requirement already satisfied: pytz>=2020.1 in c:\\users\\din_djarin\\anaconda3\\lib\\site-packages (from pandas->indic-nlp-library) (2023.3.post1)\n",
      "Requirement already satisfied: tzdata>=2022.1 in c:\\users\\din_djarin\\anaconda3\\lib\\site-packages (from pandas->indic-nlp-library) (2023.3)\n",
      "Requirement already satisfied: sphinx>=1.2.0 in c:\\users\\din_djarin\\anaconda3\\lib\\site-packages (from sphinx-argparse->indic-nlp-library) (5.0.2)\n",
      "Requirement already satisfied: docutils<0.21 in c:\\users\\din_djarin\\anaconda3\\lib\\site-packages (from sphinx-rtd-theme->indic-nlp-library) (0.18.1)\n",
      "Requirement already satisfied: sphinxcontrib-jquery<5,>=4 in c:\\users\\din_djarin\\anaconda3\\lib\\site-packages (from sphinx-rtd-theme->indic-nlp-library) (4.1)\n",
      "Requirement already satisfied: six>=1.5 in c:\\users\\din_djarin\\anaconda3\\lib\\site-packages (from python-dateutil>=2.8.2->pandas->indic-nlp-library) (1.16.0)\n",
      "Requirement already satisfied: sphinxcontrib-applehelp in c:\\users\\din_djarin\\anaconda3\\lib\\site-packages (from sphinx>=1.2.0->sphinx-argparse->indic-nlp-library) (1.0.2)\n",
      "Requirement already satisfied: sphinxcontrib-devhelp in c:\\users\\din_djarin\\anaconda3\\lib\\site-packages (from sphinx>=1.2.0->sphinx-argparse->indic-nlp-library) (1.0.2)\n",
      "Requirement already satisfied: sphinxcontrib-jsmath in c:\\users\\din_djarin\\anaconda3\\lib\\site-packages (from sphinx>=1.2.0->sphinx-argparse->indic-nlp-library) (1.0.1)\n",
      "Requirement already satisfied: sphinxcontrib-htmlhelp>=2.0.0 in c:\\users\\din_djarin\\anaconda3\\lib\\site-packages (from sphinx>=1.2.0->sphinx-argparse->indic-nlp-library) (2.0.0)\n",
      "Requirement already satisfied: sphinxcontrib-serializinghtml>=1.1.5 in c:\\users\\din_djarin\\anaconda3\\lib\\site-packages (from sphinx>=1.2.0->sphinx-argparse->indic-nlp-library) (1.1.5)\n",
      "Requirement already satisfied: sphinxcontrib-qthelp in c:\\users\\din_djarin\\anaconda3\\lib\\site-packages (from sphinx>=1.2.0->sphinx-argparse->indic-nlp-library) (1.0.3)\n",
      "Requirement already satisfied: Jinja2>=2.3 in c:\\users\\din_djarin\\anaconda3\\lib\\site-packages (from sphinx>=1.2.0->sphinx-argparse->indic-nlp-library) (3.1.2)\n",
      "Requirement already satisfied: Pygments>=2.0 in c:\\users\\din_djarin\\anaconda3\\lib\\site-packages (from sphinx>=1.2.0->sphinx-argparse->indic-nlp-library) (2.15.1)\n",
      "Requirement already satisfied: snowballstemmer>=1.1 in c:\\users\\din_djarin\\anaconda3\\lib\\site-packages (from sphinx>=1.2.0->sphinx-argparse->indic-nlp-library) (2.2.0)\n",
      "Requirement already satisfied: babel>=1.3 in c:\\users\\din_djarin\\anaconda3\\lib\\site-packages (from sphinx>=1.2.0->sphinx-argparse->indic-nlp-library) (2.11.0)\n",
      "Requirement already satisfied: alabaster<0.8,>=0.7 in c:\\users\\din_djarin\\anaconda3\\lib\\site-packages (from sphinx>=1.2.0->sphinx-argparse->indic-nlp-library) (0.7.12)\n",
      "Requirement already satisfied: imagesize in c:\\users\\din_djarin\\anaconda3\\lib\\site-packages (from sphinx>=1.2.0->sphinx-argparse->indic-nlp-library) (1.4.1)\n",
      "Requirement already satisfied: requests>=2.5.0 in c:\\users\\din_djarin\\anaconda3\\lib\\site-packages (from sphinx>=1.2.0->sphinx-argparse->indic-nlp-library) (2.31.0)\n",
      "Requirement already satisfied: packaging in c:\\users\\din_djarin\\anaconda3\\lib\\site-packages (from sphinx>=1.2.0->sphinx-argparse->indic-nlp-library) (23.1)\n",
      "Requirement already satisfied: colorama>=0.3.5 in c:\\users\\din_djarin\\anaconda3\\lib\\site-packages (from sphinx>=1.2.0->sphinx-argparse->indic-nlp-library) (0.4.6)\n",
      "Requirement already satisfied: MarkupSafe>=2.0 in c:\\users\\din_djarin\\anaconda3\\lib\\site-packages (from Jinja2>=2.3->sphinx>=1.2.0->sphinx-argparse->indic-nlp-library) (2.1.1)\n",
      "Requirement already satisfied: charset-normalizer<4,>=2 in c:\\users\\din_djarin\\anaconda3\\lib\\site-packages (from requests>=2.5.0->sphinx>=1.2.0->sphinx-argparse->indic-nlp-library) (2.0.4)\n",
      "Requirement already satisfied: idna<4,>=2.5 in c:\\users\\din_djarin\\anaconda3\\lib\\site-packages (from requests>=2.5.0->sphinx>=1.2.0->sphinx-argparse->indic-nlp-library) (3.4)\n",
      "Requirement already satisfied: urllib3<3,>=1.21.1 in c:\\users\\din_djarin\\anaconda3\\lib\\site-packages (from requests>=2.5.0->sphinx>=1.2.0->sphinx-argparse->indic-nlp-library) (1.26.16)\n",
      "Requirement already satisfied: certifi>=2017.4.17 in c:\\users\\din_djarin\\anaconda3\\lib\\site-packages (from requests>=2.5.0->sphinx>=1.2.0->sphinx-argparse->indic-nlp-library) (2023.7.22)\n"
     ]
    },
    {
     "name": "stderr",
     "output_type": "stream",
     "text": [
      "WARNING: There was an error checking the latest version of pip.\n"
     ]
    },
    {
     "name": "stdout",
     "output_type": "stream",
     "text": [
      "Requirement already satisfied: nltk in c:\\users\\din_djarin\\anaconda3\\lib\\site-packages (3.8.1)\n",
      "Requirement already satisfied: click in c:\\users\\din_djarin\\anaconda3\\lib\\site-packages (from nltk) (8.0.4)\n",
      "Requirement already satisfied: joblib in c:\\users\\din_djarin\\anaconda3\\lib\\site-packages (from nltk) (1.2.0)\n",
      "Requirement already satisfied: regex>=2021.8.3 in c:\\users\\din_djarin\\anaconda3\\lib\\site-packages (from nltk) (2022.7.9)\n",
      "Requirement already satisfied: tqdm in c:\\users\\din_djarin\\anaconda3\\lib\\site-packages (from nltk) (4.65.0)\n",
      "Requirement already satisfied: colorama in c:\\users\\din_djarin\\anaconda3\\lib\\site-packages (from click->nltk) (0.4.6)\n"
     ]
    },
    {
     "name": "stderr",
     "output_type": "stream",
     "text": [
      "WARNING: There was an error checking the latest version of pip.\n",
      "<frozen runpy>:128: RuntimeWarning: 'nltk.downloader' found in sys.modules after import of package 'nltk', but prior to execution of 'nltk.downloader'; this may result in unpredictable behaviour\n",
      "[nltk_data] Downloading package punkt to\n",
      "[nltk_data]     C:\\Users\\Din_Djarin\\AppData\\Roaming\\nltk_data...\n",
      "[nltk_data]   Package punkt is already up-to-date!\n"
     ]
    }
   ],
   "source": [
    "!pip install indic-nlp-library\n",
    "!pip install nltk\n",
    "!python -m nltk.downloader punkt"
   ]
  },
  {
   "cell_type": "code",
   "execution_count": 27,
   "metadata": {
    "execution": {
     "iopub.execute_input": "2024-04-17T14:23:10.788051Z",
     "iopub.status.busy": "2024-04-17T14:23:10.787450Z",
     "iopub.status.idle": "2024-04-17T14:23:11.674786Z",
     "shell.execute_reply": "2024-04-17T14:23:11.673932Z",
     "shell.execute_reply.started": "2024-04-17T14:23:10.788018Z"
    }
   },
   "outputs": [],
   "source": [
    "import nltk\n",
    "from nltk.tokenize import word_tokenize\n",
    "from nltk.translate.bleu_score import corpus_bleu,sentence_bleu\n",
    "from indicnlp.tokenize import indic_tokenize  \n",
    "\n",
    "def compute_bleu_e(true_sentences,translated_sentences):\n",
    "    corpus_bleu_a=corpus_bleu([[a] for a in true_sentences],translated_sentences)\n",
    "    true_tokens=[word_tokenize(t) for t in true_sentences]\n",
    "    translated_tokens=[word_tokenize(t) for t in translated_sentences]\n",
    "    bleu_scores = []\n",
    "    for a, b in zip(true_tokens, translated_tokens):\n",
    "        score = sentence_bleu([a], b)\n",
    "        bleu_scores.append(score)\n",
    "    average_bleu = sum(bleu_scores) / len(bleu_scores)\n",
    "    return [corpus_bleu_a,bleu_scores,average_bleu]\n",
    "\n",
    "def compute_bleu_i(true_sentences,translated_sentences):\n",
    "    corpus_bleu_a=corpus_bleu([[a] for a in true_sentences],translated_sentences)\n",
    "    true_tokens=[indic_tokenize.trivial_tokenize(t) for t in true_sentences]\n",
    "    translated_tokens=[indic_tokenize.trivial_tokenize(t) for t in translated_sentences]\n",
    "    bleu_scores = []\n",
    "    for a, b in zip(true_tokens, translated_tokens):\n",
    "        score = sentence_bleu([a], b)\n",
    "        bleu_scores.append(score)\n",
    "    average_bleu = sum(bleu_scores) / len(bleu_scores)\n",
    "    return [corpus_bleu_a,bleu_scores,average_bleu]\n",
    "    "
   ]
  },
  {
   "cell_type": "markdown",
   "metadata": {},
   "source": [
    "# English -> Hindi"
   ]
  },
  {
   "cell_type": "code",
   "execution_count": 28,
   "metadata": {
    "execution": {
     "iopub.execute_input": "2024-04-17T14:53:17.251284Z",
     "iopub.status.busy": "2024-04-17T14:53:17.250463Z",
     "iopub.status.idle": "2024-04-17T14:53:17.890877Z",
     "shell.execute_reply": "2024-04-17T14:53:17.889852Z",
     "shell.execute_reply.started": "2024-04-17T14:53:17.251248Z"
    }
   },
   "outputs": [
    {
     "name": "stdout",
     "output_type": "stream",
     "text": [
      "ENGLISH -> HINDI\n",
      "Corpus BLEU:  0.615585255377307\n",
      "Sentence BLEU of first 5 sentences:  [0.2656329516218929, 0.35202249131774527, 0.532650950581161, 2.6055163239397093e-78, 3.5598744287001624e-155]\n",
      "Average of Sentence BLEU score:  0.24669356261920802\n"
     ]
    }
   ],
   "source": [
    "result=compute_bleu_i(hindi_sentences,translated_english_hindi)\n",
    "print(\"ENGLISH -> HINDI\")\n",
    "print(\"Corpus BLEU: \",result[0])\n",
    "print(\"Sentence BLEU of first 5 sentences: \",result[1][:5])\n",
    "print(\"Average of Sentence BLEU score: \",result[2])"
   ]
  },
  {
   "cell_type": "markdown",
   "metadata": {},
   "source": [
    "# Hindi -> English"
   ]
  },
  {
   "cell_type": "code",
   "execution_count": 29,
   "metadata": {
    "execution": {
     "iopub.execute_input": "2024-04-17T14:53:19.399224Z",
     "iopub.status.busy": "2024-04-17T14:53:19.398226Z",
     "iopub.status.idle": "2024-04-17T14:53:20.041534Z",
     "shell.execute_reply": "2024-04-17T14:53:20.040381Z",
     "shell.execute_reply.started": "2024-04-17T14:53:19.399180Z"
    }
   },
   "outputs": [
    {
     "name": "stdout",
     "output_type": "stream",
     "text": [
      "HINDI -> English\n",
      "Corpus BLEU:  0.6668189468429806\n",
      "Sentence BLEU of first 5 sentences:  [0.12858902882463452, 0.5630909754551215, 3.086843912503045e-78, 5.248627901543034e-155, 0.13899729117533982]\n",
      "Average of Sentence BLEU score:  0.2626990129528187\n"
     ]
    }
   ],
   "source": [
    "result=compute_bleu_e(english_sentences,translated_hindi_english)\n",
    "print(\"HINDI -> English\")\n",
    "print(\"Corpus BLEU: \",result[0])\n",
    "print(\"Sentence BLEU of first 5 sentences: \",result[1][:5])\n",
    "print(\"Average of Sentence BLEU score: \",result[2])"
   ]
  },
  {
   "cell_type": "markdown",
   "metadata": {},
   "source": [
    "# Hindi -> Gujarati"
   ]
  },
  {
   "cell_type": "code",
   "execution_count": 30,
   "metadata": {
    "execution": {
     "iopub.execute_input": "2024-04-17T14:53:21.404026Z",
     "iopub.status.busy": "2024-04-17T14:53:21.403135Z",
     "iopub.status.idle": "2024-04-17T14:53:21.460598Z",
     "shell.execute_reply": "2024-04-17T14:53:21.459132Z",
     "shell.execute_reply.started": "2024-04-17T14:53:21.403994Z"
    }
   },
   "outputs": [
    {
     "name": "stdout",
     "output_type": "stream",
     "text": [
      "HINDI -> GUJARATI\n",
      "Corpus BLEU:  0.564283658272101\n",
      "Sentence BLEU of first 5 sentences:  [0.2809461304041997, 0.7122051230572402, 0.24739977342883948, 0.29426660061927074, 3.894946311282383e-155]\n",
      "Average of Sentence BLEU score:  0.16725685294891557\n"
     ]
    }
   ],
   "source": [
    "result=compute_bleu_i(gujarati_sentences,translated_hindi_gujarati)\n",
    "print(\"HINDI -> GUJARATI\")\n",
    "print(\"Corpus BLEU: \",result[0])\n",
    "print(\"Sentence BLEU of first 5 sentences: \",result[1][:5])\n",
    "print(\"Average of Sentence BLEU score: \",result[2])"
   ]
  },
  {
   "cell_type": "markdown",
   "metadata": {},
   "source": [
    "# Gujarati -> Hindi"
   ]
  },
  {
   "cell_type": "code",
   "execution_count": 31,
   "metadata": {
    "execution": {
     "iopub.execute_input": "2024-04-17T14:53:31.742346Z",
     "iopub.status.busy": "2024-04-17T14:53:31.741910Z",
     "iopub.status.idle": "2024-04-17T14:53:31.799907Z",
     "shell.execute_reply": "2024-04-17T14:53:31.798614Z",
     "shell.execute_reply.started": "2024-04-17T14:53:31.742315Z"
    }
   },
   "outputs": [
    {
     "name": "stdout",
     "output_type": "stream",
     "text": [
      "GUJARATI -> HINDI\n",
      "Corpus BLEU:  0.6253649620928817\n",
      "Sentence BLEU of first 5 sentences:  [0.17006277776503467, 0.4537272378934471, 0.24207623565173003, 0.5282771623301803, 8.837227589960867e-232]\n",
      "Average of Sentence BLEU score:  0.25933576822978044\n"
     ]
    }
   ],
   "source": [
    "result=compute_bleu_i(hindi_sentences,translated_gujarati_hindi)\n",
    "print(\"GUJARATI -> HINDI\")\n",
    "print(\"Corpus BLEU: \",result[0])\n",
    "print(\"Sentence BLEU of first 5 sentences: \",result[1][:5])\n",
    "print(\"Average of Sentence BLEU score: \",result[2])"
   ]
  },
  {
   "cell_type": "markdown",
   "metadata": {},
   "source": [
    "# ROUGE Score"
   ]
  },
  {
   "cell_type": "code",
   "execution_count": 32,
   "metadata": {
    "execution": {
     "iopub.execute_input": "2024-04-17T14:53:33.126810Z",
     "iopub.status.busy": "2024-04-17T14:53:33.125809Z",
     "iopub.status.idle": "2024-04-17T14:53:33.133325Z",
     "shell.execute_reply": "2024-04-17T14:53:33.132546Z",
     "shell.execute_reply.started": "2024-04-17T14:53:33.126764Z"
    }
   },
   "outputs": [],
   "source": [
    "from rouge import Rouge\n",
    "def calculate_rouge_score(original_sentences,translated_sentences):\n",
    "    rouge=Rouge()\n",
    "    scores=rouge.get_scores(translated_sentences,original_sentences,avg=True)\n",
    "    return scores"
   ]
  },
  {
   "cell_type": "markdown",
   "metadata": {},
   "source": [
    "## ROUGE Score for English -> Hindi"
   ]
  },
  {
   "cell_type": "code",
   "execution_count": 33,
   "metadata": {
    "execution": {
     "iopub.execute_input": "2024-04-17T14:53:34.482997Z",
     "iopub.status.busy": "2024-04-17T14:53:34.482611Z",
     "iopub.status.idle": "2024-04-17T14:53:34.541451Z",
     "shell.execute_reply": "2024-04-17T14:53:34.540070Z",
     "shell.execute_reply.started": "2024-04-17T14:53:34.482966Z"
    }
   },
   "outputs": [
    {
     "name": "stdout",
     "output_type": "stream",
     "text": [
      "ROUGE Scores for English -> Hindi: \n",
      "ROUGE_1:  {'r': 0.5592192983801261, 'p': 0.6047908012819584, 'f': 0.576225406877844}\n",
      "ROUGE_2:  {'r': 0.3308294813975163, 'p': 0.3582003777389142, 'f': 0.3408755639931855}\n",
      "ROUGE_L:  {'r': 0.520879183198387, 'p': 0.563176932639122, 'f': 0.5367065848538838}\n"
     ]
    }
   ],
   "source": [
    "rouge_english_hindi=calculate_rouge_score(hindi_sentences,translated_english_hindi)\n",
    "print(\"ROUGE Scores for English -> Hindi: \")\n",
    "print(\"ROUGE_1: \",rouge_english_hindi['rouge-1'])\n",
    "print(\"ROUGE_2: \",rouge_english_hindi['rouge-2'])\n",
    "print(\"ROUGE_L: \",rouge_english_hindi['rouge-l'])"
   ]
  },
  {
   "cell_type": "markdown",
   "metadata": {},
   "source": [
    "## ROUGE Score for Hindi -> English"
   ]
  },
  {
   "cell_type": "code",
   "execution_count": 34,
   "metadata": {
    "execution": {
     "iopub.execute_input": "2024-04-17T14:53:38.590566Z",
     "iopub.status.busy": "2024-04-17T14:53:38.590214Z",
     "iopub.status.idle": "2024-04-17T14:53:38.648112Z",
     "shell.execute_reply": "2024-04-17T14:53:38.646845Z",
     "shell.execute_reply.started": "2024-04-17T14:53:38.590542Z"
    }
   },
   "outputs": [
    {
     "name": "stdout",
     "output_type": "stream",
     "text": [
      "ROUGE Scores for English -> Hindi: \n",
      "ROUGE_1:  {'r': 0.6175967326120717, 'p': 0.6418589561845924, 'f': 0.6248042073297037}\n",
      "ROUGE_2:  {'r': 0.37631522065030654, 'p': 0.38792750372591506, 'f': 0.3788242778036592}\n",
      "ROUGE_L:  {'r': 0.5888351688904596, 'p': 0.6110715646892184, 'f': 0.5953416753617277}\n"
     ]
    }
   ],
   "source": [
    "rouge_hindi_english=calculate_rouge_score(english_sentences,translated_hindi_english)\n",
    "print(\"ROUGE Scores for English -> Hindi: \")\n",
    "print(\"ROUGE_1: \",rouge_hindi_english['rouge-1'])\n",
    "print(\"ROUGE_2: \",rouge_hindi_english['rouge-2'])\n",
    "print(\"ROUGE_L: \",rouge_hindi_english['rouge-l'])"
   ]
  },
  {
   "cell_type": "markdown",
   "metadata": {},
   "source": [
    "## ROUGE Score for Hindi -> Gujarati"
   ]
  },
  {
   "cell_type": "code",
   "execution_count": 35,
   "metadata": {
    "execution": {
     "iopub.execute_input": "2024-04-17T14:53:39.055471Z",
     "iopub.status.busy": "2024-04-17T14:53:39.055078Z",
     "iopub.status.idle": "2024-04-17T14:53:39.112417Z",
     "shell.execute_reply": "2024-04-17T14:53:39.111113Z",
     "shell.execute_reply.started": "2024-04-17T14:53:39.055443Z"
    }
   },
   "outputs": [
    {
     "name": "stdout",
     "output_type": "stream",
     "text": [
      "ROUGE Scores for Hindi -> Gujarati: \n",
      "ROUGE_1:  {'r': 0.48470792688607245, 'p': 0.5455513329727139, 'f': 0.5070451946178761}\n",
      "ROUGE_2:  {'r': 0.264453084158997, 'p': 0.2979918560240932, 'f': 0.27636530160769174}\n",
      "ROUGE_L:  {'r': 0.46695384980474214, 'p': 0.5248536099956567, 'f': 0.48816197011905954}\n"
     ]
    }
   ],
   "source": [
    "rouge_hindi_gujarati=calculate_rouge_score(gujarati_sentences,translated_hindi_gujarati)\n",
    "print(\"ROUGE Scores for Hindi -> Gujarati: \")\n",
    "print(\"ROUGE_1: \",rouge_hindi_gujarati['rouge-1'])\n",
    "print(\"ROUGE_2: \",rouge_hindi_gujarati['rouge-2'])\n",
    "print(\"ROUGE_L: \",rouge_hindi_gujarati['rouge-l'])"
   ]
  },
  {
   "cell_type": "markdown",
   "metadata": {},
   "source": [
    "## ROUGE Score for Gujarati -> Hindi"
   ]
  },
  {
   "cell_type": "code",
   "execution_count": 36,
   "metadata": {
    "execution": {
     "iopub.execute_input": "2024-04-17T14:53:40.233555Z",
     "iopub.status.busy": "2024-04-17T14:53:40.233168Z",
     "iopub.status.idle": "2024-04-17T14:53:40.287608Z",
     "shell.execute_reply": "2024-04-17T14:53:40.286338Z",
     "shell.execute_reply.started": "2024-04-17T14:53:40.233526Z"
    }
   },
   "outputs": [
    {
     "name": "stdout",
     "output_type": "stream",
     "text": [
      "ROUGE Scores for English -> Hindi: \n",
      "ROUGE_1:  {'r': 0.565995176695891, 'p': 0.6061949072318329, 'f': 0.5805230909217085}\n",
      "ROUGE_2:  {'r': 0.3427720542227411, 'p': 0.3676730720421879, 'f': 0.3516531912219914}\n",
      "ROUGE_L:  {'r': 0.53271595885928, 'p': 0.5695115089270144, 'f': 0.5460183167328442}\n"
     ]
    }
   ],
   "source": [
    "rouge_gujarati_hindi=calculate_rouge_score(hindi_sentences,translated_gujarati_hindi)\n",
    "print(\"ROUGE Scores for English -> Hindi: \")\n",
    "print(\"ROUGE_1: \",rouge_gujarati_hindi['rouge-1'])\n",
    "print(\"ROUGE_2: \",rouge_gujarati_hindi['rouge-2'])\n",
    "print(\"ROUGE_L: \",rouge_gujarati_hindi['rouge-l'])"
   ]
  }
 ],
 "metadata": {
  "kaggle": {
   "accelerator": "nvidiaTeslaT4",
   "dataSources": [
    {
     "datasetId": 4811907,
     "sourceId": 8139153,
     "sourceType": "datasetVersion"
    }
   ],
   "dockerImageVersionId": 30683,
   "isGpuEnabled": true,
   "isInternetEnabled": true,
   "language": "python",
   "sourceType": "notebook"
  },
  "kernelspec": {
   "display_name": "Python 3 (ipykernel)",
   "language": "python",
   "name": "python3"
  },
  "language_info": {
   "codemirror_mode": {
    "name": "ipython",
    "version": 3
   },
   "file_extension": ".py",
   "mimetype": "text/x-python",
   "name": "python",
   "nbconvert_exporter": "python",
   "pygments_lexer": "ipython3",
   "version": "3.11.5"
  }
 },
 "nbformat": 4,
 "nbformat_minor": 4
}
