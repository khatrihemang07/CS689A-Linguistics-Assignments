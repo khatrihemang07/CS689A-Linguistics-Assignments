{
 "cells": [
  {
   "cell_type": "markdown",
   "metadata": {},
   "source": [
    "# Loading English Data"
   ]
  },
  {
   "cell_type": "code",
   "execution_count": 1,
   "metadata": {
    "execution": {
     "iopub.execute_input": "2024-04-17T13:33:58.970869Z",
     "iopub.status.busy": "2024-04-17T13:33:58.970287Z",
     "iopub.status.idle": "2024-04-17T13:33:58.986160Z",
     "shell.execute_reply": "2024-04-17T13:33:58.985055Z",
     "shell.execute_reply.started": "2024-04-17T13:33:58.970819Z"
    }
   },
   "outputs": [
    {
     "data": {
      "text/plain": [
       "['PM said that Ayushman Bharat Scheme will create an entirely new ecosystem which helps to create healthier India.\\n',\n",
       " 'India’s test was not only successful but in a way, India had demonstrated its might in the field of science and technology.\\n',\n",
       " 'Happy that the Bharat Ratna has been conferred on Bhupen Da.” the Prime Minister said.\\n',\n",
       " 'I congratulate these young friends and members of the school in Chandrapur, from the core of my heart.\\n',\n",
       " 'From the point of larger scale of operations and higher value addition, an investor is also attracted by a large domestic market size, availability of skilled labour and good physical infrastructure.\\n',\n",
       " 'During the operation, a sailor from Thailand Navy sacrificed his life.\\n',\n",
       " 'We wish to build land, sea and air connectivity to this dynamic region.\\n',\n",
       " 'This very month, 20 year old Vedangi Kulkarni from Pune became the fastest Asian to traverse the globe riding a bicycle.\\n',\n",
       " 'The two leaders will attend a public function to mark the commencement of work of India’s first high-speed rail project between Ahmedabad and Mumbai, on 14th of September.\\n',\n",
       " 'Almost all the countries in the world made Yoga Day their own.\\n']"
      ]
     },
     "execution_count": 1,
     "metadata": {},
     "output_type": "execute_result"
    }
   ],
   "source": [
    "with open('test_random.en','r',encoding='utf-8') as f:\n",
    "    english_sentences=f.readlines()\n",
    "\n",
    "english_sentences[:10]"
   ]
  },
  {
   "cell_type": "markdown",
   "metadata": {},
   "source": [
    "# Loading Hindi Data"
   ]
  },
  {
   "cell_type": "code",
   "execution_count": 2,
   "metadata": {
    "execution": {
     "iopub.execute_input": "2024-04-17T13:33:59.341741Z",
     "iopub.status.busy": "2024-04-17T13:33:59.341228Z",
     "iopub.status.idle": "2024-04-17T13:33:59.370276Z",
     "shell.execute_reply": "2024-04-17T13:33:59.368587Z",
     "shell.execute_reply.started": "2024-04-17T13:33:59.341704Z"
    }
   },
   "outputs": [
    {
     "data": {
      "text/plain": [
       "['प्रधानमंत्री ने कहा कि आयुष्\\u200dमान भारत योजना पूरी तरह से एक नई परस्\\u200dपर संबद्ध व्\\u200dयवस्\\u200dथा है जो स्\\u200dवस्\\u200dथ भारत बनाने में मदद करेगी।\\n',\n",
       " 'भारत का परीक्षण सफल रहा और एक तरह से कहें तो विज्ञान और तकनीक के क्षेत्र में भारत ने अपनी ताक़त का प्रदर्शन किया था।\\n',\n",
       " 'मुझे प्रसन्नता है कि भूपेन दा को भारत रत्न से सम्मानित किया गया।”\\n',\n",
       " 'मैं चंद्रपुर के स्कूल के लोगों को, इन मेरे नन्हे-मुन्हे साथियों को, ह्रदय से बहुत-बहुत बधाई देता हूँ।\\n',\n",
       " 'परिचालन के व्\\u200dयापक स्\\u200dतर और उच्\\u200dच मूल्\\u200dयवर्धन की दृष्टि से कोई भी निवेशक विशाल घरेलू बाजार, कौशल कामगारों की उपलब्\\u200dधता और बेहतर भौतिक बुनियादी ढांचे से भी आकर्षित होता है।\\n',\n",
       " 'इस पूरे operation में थाईलैंड की नौसेना के एक जवान को अपनी जान भी गँवानी पड़ी।\\n',\n",
       " 'हम इस क्षेत्र में भूमि, समुद्र और वायु संपर्क बनाना चाहते हैं।\\n',\n",
       " 'इसी महीने पुणे की एक 20 साल की बेटी वेदांगी कुलकर्णी साइकल से दुनिया का चक्कर लगाने वाली सबसे तेज एशियाई बन गयी हैं।\\n',\n",
       " 'दोनों नेता अहमदाबाद और मुंबई के बीच चलने वाली भारत की तेज गति रेल परियोजना के भारत में निर्माण के शुभांरभ के लिए 14 सितंबर को आयोजित एक सार्वजनिक समारोह में भाग लेंगे।\\n',\n",
       " 'दुनिया के क़रीब-क़रीब सभी देशों ने योग के इस अवसर को अपना अवसर बना दिया।\\n']"
      ]
     },
     "execution_count": 2,
     "metadata": {},
     "output_type": "execute_result"
    }
   ],
   "source": [
    "with open('test_random.hi','r',encoding='utf-8') as f:\n",
    "    hindi_sentences=f.readlines()\n",
    "\n",
    "hindi_sentences[:10]"
   ]
  },
  {
   "cell_type": "markdown",
   "metadata": {},
   "source": [
    "# Loading Gujarati Data"
   ]
  },
  {
   "cell_type": "code",
   "execution_count": 3,
   "metadata": {
    "execution": {
     "iopub.execute_input": "2024-04-17T13:33:59.711797Z",
     "iopub.status.busy": "2024-04-17T13:33:59.711309Z",
     "iopub.status.idle": "2024-04-17T13:33:59.740395Z",
     "shell.execute_reply": "2024-04-17T13:33:59.738808Z",
     "shell.execute_reply.started": "2024-04-17T13:33:59.711747Z"
    }
   },
   "outputs": [
    {
     "data": {
      "text/plain": [
       "['પ્રધાનમંત્રીએ જણાવ્યું હતું કે, આયુષ્માન ભારત યોજના સંપૂર્ણપણે નવી ઇકોસિસ્ટમ ઊભી કરશે, જે સ્વસ્થ ભારતનું નિર્માણ કરવામાં મદદ કરશે.\\n',\n",
       " 'ભારતનું પરીક્ષણ સફળ રહ્યું અને એક રીતે કહીએ તો વિજ્ઞાન અને ટેક્નોલોજીના ક્ષેત્રમાં ભારતે પોતાની તાકાતનું પ્રદર્શન કર્યું હતું.\\n',\n",
       " 'મને ખુશી છે કે, ભૂપેન દાને ભારતરત્નથી સન્માનિત કરવામાં આવ્યાં છે.”\\n',\n",
       " 'હું ચંદ્રપુરની શાળાના લોકોને, મારા આ નાના સાથીઓને, હૃદયથી ખૂબ જ અભિનંદન આપું છું.\\n',\n",
       " 'વિશાળ પ્રમાણમાં કામગીરી અને ઉચ્ચ નફાકારકતાથી રોકાણકારો સ્થાનિક બજારનું કદ, કૌશલ્ય ધરાવતા કર્મચારીઓ અને સારા માળખાને પણ ઝંખે છે.\\n',\n",
       " 'આ પૂરી કાર્યવાહીમાં થાઇલેન્ડના નૌકાદળના એક જવાને પોતાનો જીવ પણ ગુમાવવો પડ્યો.\\n',\n",
       " 'અમે આ ગતિશીલ વિસ્તારમાં જમીન, દરિયાઈ અને હવાઈ જોડાણ ઊભું કરવા ઇચ્છીએ છીએ.\\n',\n",
       " 'આ મહિને પૂણેની એક 20 વર્ષની દિકરી વેદાંગી કુલકર્ણી સાઇકલથી દુનિયાનું ભ્રમણ કરનારી સૌથી ઝડપી એશિયાઇ બની ગઇ છે.\\n',\n",
       " 'બંને નેતાઓ 14 સપ્ટેમ્બરના રોજ અમદાવાદ અને મુંબઈ વચ્ચે ભારતનાપ્રથમ હાઈ-સ્પીડ રેલ પ્રોજેક્ટના કાર્યની શરૂઆત કરાવવા જાહેર સમારંભમાં હાજરી આપશે.\\n',\n",
       " 'દુનિયાના લગભગ બધા દેશોએ યોગના આ અવસરને પોતાનો અવસર બનાવી દીધો છે.\\n']"
      ]
     },
     "execution_count": 3,
     "metadata": {},
     "output_type": "execute_result"
    }
   ],
   "source": [
    "with open('test_random.gu','r',encoding='utf-8') as f:\n",
    "    gujarati_sentences=f.readlines()\n",
    "\n",
    "gujarati_sentences[:10]"
   ]
  },
  {
   "cell_type": "markdown",
   "metadata": {},
   "source": [
    "# Random Sampling 1000 examples"
   ]
  },
  {
   "cell_type": "code",
   "execution_count": 4,
   "metadata": {
    "execution": {
     "iopub.execute_input": "2024-04-17T13:34:00.697336Z",
     "iopub.status.busy": "2024-04-17T13:34:00.696856Z",
     "iopub.status.idle": "2024-04-17T13:34:00.709494Z",
     "shell.execute_reply": "2024-04-17T13:34:00.707875Z",
     "shell.execute_reply.started": "2024-04-17T13:34:00.697302Z"
    }
   },
   "outputs": [
    {
     "data": {
      "text/plain": [
       "[976, 592, 890, 399, 502, 785, 97, 120, 683, 245]"
      ]
     },
     "execution_count": 4,
     "metadata": {},
     "output_type": "execute_result"
    }
   ],
   "source": [
    "from random import sample,seed\n",
    "seed(1748)\n",
    "sample_indices=sample(range(len(english_sentences)),1000)\n",
    "sample_indices[:10]"
   ]
  },
  {
   "cell_type": "code",
   "execution_count": 5,
   "metadata": {
    "execution": {
     "iopub.execute_input": "2024-04-17T13:34:01.028536Z",
     "iopub.status.busy": "2024-04-17T13:34:01.028082Z",
     "iopub.status.idle": "2024-04-17T13:34:01.038202Z",
     "shell.execute_reply": "2024-04-17T13:34:01.036544Z",
     "shell.execute_reply.started": "2024-04-17T13:34:01.028503Z"
    }
   },
   "outputs": [],
   "source": [
    "english_sentences=[english_sentences[i] for i in sample_indices]\n",
    "hindi_sentences=[hindi_sentences[i] for i in sample_indices]\n",
    "gujarati_sentences=[gujarati_sentences[i] for i in sample_indices]"
   ]
  },
  {
   "cell_type": "code",
   "execution_count": 6,
   "metadata": {
    "execution": {
     "iopub.execute_input": "2024-04-17T13:34:24.083987Z",
     "iopub.status.busy": "2024-04-17T13:34:24.083458Z",
     "iopub.status.idle": "2024-04-17T13:34:24.092446Z",
     "shell.execute_reply": "2024-04-17T13:34:24.091198Z",
     "shell.execute_reply.started": "2024-04-17T13:34:24.083949Z"
    }
   },
   "outputs": [
    {
     "data": {
      "text/plain": [
       "['In the isolated regions of the Nilgiri plateau in South India, a small wanderer community Toda make their settlements using locally available material only.\\n',\n",
       " 'Some people have really benefitted very well from MNREGA budget provisions made by the Government of India for water conservation and water management works.\\n',\n",
       " 'The movement should not be limited to make people literate.\\n',\n",
       " 'I congratulate the Finance Minister Arun Jaitley Jee for presenting an excellent Budget.\\n',\n",
       " 'His father earns his daily bread by waste-picking.\\n',\n",
       " 'New India is not possible without a New Tamil Nadu.\\n',\n",
       " 'The Prime Minister, Shri Narendra Modi, today attended a function organized by the Press Council of India on the occasion of National Press Day.\\n',\n",
       " 'He inaugurated the Luwangpokpa Multi Sports Complex, the Rani Gaidinliu Park, and other important development projects.\\n',\n",
       " 'Since the council was created fifty years ago, India has made rapid strides in this industry.\\n',\n",
       " 'He called upon the people of Pakistan to tell their rulers to fight corruption and fake notes.\\n']"
      ]
     },
     "execution_count": 6,
     "metadata": {},
     "output_type": "execute_result"
    }
   ],
   "source": [
    "english_sentences[:10]"
   ]
  },
  {
   "cell_type": "code",
   "execution_count": 7,
   "metadata": {
    "execution": {
     "iopub.execute_input": "2024-04-17T13:34:17.400026Z",
     "iopub.status.busy": "2024-04-17T13:34:17.398598Z",
     "iopub.status.idle": "2024-04-17T13:34:17.410693Z",
     "shell.execute_reply": "2024-04-17T13:34:17.409058Z",
     "shell.execute_reply.started": "2024-04-17T13:34:17.399972Z"
    }
   },
   "outputs": [
    {
     "data": {
      "text/plain": [
       "['दक्षिण भारत के नीलगिरी पठार के एकांत क्षेत्रों में एक छोटा घुमन्तु समुदाय तोड़ा, पारंपरिक तौर पर उनकी बस्तियाँ स्थानीय स्थर पर उपलब्ध चीजों से ही बनी होती हैं।\\n',\n",
       " 'जल-संरक्षण और जल-प्रबंधन के लिए भारत सरकार के द्वारा जो मनरेगा में धनराशि मिलती है, कुछ लोगों ने इसका बहुत अच्छा फायदा उठाया है।\\n',\n",
       " 'यह आंदोलन केवल लोगों को साक्षर करने तक सीमित नहीं होना चाहिए।\\n',\n",
       " 'हमारे देश के वित्\\u200dतमंत्री अरुण जेटली जी को उत्\\u200dतम बजट देने के लिए बहुत-बहुत बधाई देता हूँ।\\n',\n",
       " 'उनके पिता कूड़ा बीनकर अपने परिवार का पालन-पोषण करते हैं।\\n',\n",
       " 'New India बिना New Tamil Nadu संभव नहीं है।\\n',\n",
       " 'प्रधानमंत्री श्री नरेन्\\u200dद्र मोदी ने आज राष्\\u200dट्रीय प्रेस दिवस के अवसर पर भारतीय प्रेस परिषद की ओर से आयोजित कार्यक्रम में भाग लिया।\\n',\n",
       " 'उन्\\u200dहोंने लुआंगपोकपा बहु-क्रीड़ा परिसर, रानी गाइदिन्\\u200dल्\\u200dयू पार्क तथा अन्\\u200dय महत्\\u200dवपूर्ण विकास परियोजनाओं का उद्घाटन किया।\\n',\n",
       " 'पचास साल पहले इस परिषद का गठन हुआ था, तब से लेकर अब तक भारत में इस उद्योग ने तेजी से प्रगति की है।\\n',\n",
       " 'उन्होंने पाकिस्तान की जनता को आह्वान करते हुए कहा कि वह अपने शासकों से भ्रष्टाचार और नकली नोटों के खिलाफ लड़ने के लिए कहे।\\n']"
      ]
     },
     "execution_count": 7,
     "metadata": {},
     "output_type": "execute_result"
    }
   ],
   "source": [
    "hindi_sentences[:10]"
   ]
  },
  {
   "cell_type": "code",
   "execution_count": 8,
   "metadata": {
    "execution": {
     "iopub.execute_input": "2024-04-17T13:34:35.069757Z",
     "iopub.status.busy": "2024-04-17T13:34:35.069344Z",
     "iopub.status.idle": "2024-04-17T13:34:35.080325Z",
     "shell.execute_reply": "2024-04-17T13:34:35.078544Z",
     "shell.execute_reply.started": "2024-04-17T13:34:35.069726Z"
    },
    "scrolled": true
   },
   "outputs": [
    {
     "data": {
      "text/plain": [
       "['દક્ષિણ ભારતના નીલગિરી પઠારનાં એકાંત ક્ષેત્રોમાં એક નાનકડો વિચરતો સમુદાય-તોડા, પારંપરિક રીતે તેમની વસાહતો સ્થાનિક સ્તર પર ઉપલબ્ધ ચીજોથી જ બનેલી હોય છે.\\n',\n",
       " 'જળ સંરક્ષણ અને જળ પ્રબંધન માટે ભારત સરકાર દ્વારા જે મનરેગામાં જે બજેટ મળે છે, કેટલાક લોકોએ તેનો બહુ જ સારો ફાયદો ઉઠાવ્યો છે.\\n',\n",
       " 'અભિયાનનો ઉદ્દેશ લોકોને સાક્ષર બનાવવા પૂરતો મર્યાદિત ન હોવો જોઈએ.\\n',\n",
       " 'આપણા દેશના નાણા મંત્રી અરુણ જેટલીજીને શ્રેષ્ઠ અંદાજપત્ર આપવા બદલ ખુબ ખુબ અભિનંદન આપું છું.\\n',\n",
       " 'તેમના પિતા કચરો વીણીને પોતાના કુટુંબનું પાલનપોષણ કરે છે.\\n',\n",
       " 'ન્યૂ ઇન્ડિયા ન્યૂ તામિલનાડુ વિના શક્ય નથી.\\n',\n",
       " 'પ્રધાનમંત્રી શ્રી નરેન્દ્ર મોદીએ આજે રાષ્ટ્રીય પત્રકારત્વ દિવસના પ્રસંગે પ્રેસ કાઉન્સિલ ઓફ ઇન્ડિયા (પીસીઆઈ) દ્વારા આયોજિત એક કાર્યક્રમમાં હાજરી આપી હતી.\\n',\n",
       " 'તેમણે લુંવાંગપોક્પા મલ્ટી સ્પોર્ટ્સ કોમ્પલેક્સ, રાણી ગાઈદીન્લ્યું પાર્ક અને અન્ય અગત્યનાં વિકાસ કાર્યોનો પણ પ્રારંભ કરાવ્યો.\\n',\n",
       " 'આ કાઉન્સિલની સ્થાપના 50 વર્ષ અગાઉ થઈ હતી અને આ ગાળામાં ભારતે જેમ્સ એન્ડ જ્વેલરી ઉદ્યોગમાં હરણફાળ ભરી છે.\\n',\n",
       " 'તેમણે પાકિસ્તાનના લોકોને તેમના શાસકો સામે ભ્રષ્ટાચાર અને બનાવટી નોટો સામે લડવા અપીલ કરી હતી.\\n']"
      ]
     },
     "execution_count": 8,
     "metadata": {},
     "output_type": "execute_result"
    }
   ],
   "source": [
    "gujarati_sentences[:10]"
   ]
  },
  {
   "cell_type": "markdown",
   "metadata": {},
   "source": [
    "# Resampling 50 from 1000"
   ]
  },
  {
   "cell_type": "code",
   "execution_count": 9,
   "metadata": {},
   "outputs": [
    {
     "data": {
      "text/plain": [
       "[631, 651, 974, 729, 770, 820, 717, 218, 978, 375]"
      ]
     },
     "execution_count": 9,
     "metadata": {},
     "output_type": "execute_result"
    }
   ],
   "source": [
    "from random import sample,seed\n",
    "seed(835)\n",
    "sample_indices=sample(range(1000),50)\n",
    "sample_indices[:10]"
   ]
  },
  {
   "cell_type": "code",
   "execution_count": 10,
   "metadata": {},
   "outputs": [],
   "source": [
    "english_sentences=[english_sentences[i] for i in sample_indices]\n",
    "hindi_sentences=[hindi_sentences[i] for i in sample_indices]\n",
    "gujarati_sentences=[gujarati_sentences[i] for i in sample_indices]"
   ]
  },
  {
   "cell_type": "code",
   "execution_count": 12,
   "metadata": {},
   "outputs": [
    {
     "data": {
      "text/plain": [
       "['It is due to his vision of development that all these states are progressing rapidly, the Prime Minister said.\\n',\n",
       " 'Addressing a public meeting, he described water as a holy offering from nature.\\n',\n",
       " 'The Prime Minister released Narmada Pravah – the Mission Work Plan for the river Narmada.\\n',\n",
       " 'On the contrary, if one cleans up dirt in the surroundings, he gets energized, and then does not resign himself to existing adverse circumstances.\\n',\n",
       " 'PM said that Ayushman Bharat Scheme will create an entirely new ecosystem which helps to create healthier India.\\n',\n",
       " 'In this context he spoke of India’s digital infrastructure, and its interfaces including Aadhaar, UPI, e-NAM, and GeM.\\n',\n",
       " 'All the stake holders related to health sector are working together to transform the sector, PM said.\\n',\n",
       " 'A well-read population will help India excel globally.\\n',\n",
       " 'Our thoughts and prayers are with the victims and their families.\\n',\n",
       " 'In this context, I extend hearty greetings to F.S.S.A.I for this initiative.\\n']"
      ]
     },
     "execution_count": 12,
     "metadata": {},
     "output_type": "execute_result"
    }
   ],
   "source": [
    "english_sentences[:10]"
   ]
  },
  {
   "cell_type": "code",
   "execution_count": 14,
   "metadata": {
    "scrolled": true
   },
   "outputs": [
    {
     "data": {
      "text/plain": [
       "['प्रधानमंत्री ने कहा कि यह विकास की उनकी दृष्टि ही है कि ये सभी राज्य तेजी से प्रगति कर रहे हैं।\\n',\n",
       " 'एक जनसभा को संबोधित करते हुए प्रधानमंत्री ने जल को प्रकृति प्रदत्त भेंट बताया।\\n',\n",
       " 'प्रधानमंत्री ने नर्मदा प्रवाह – नर्मदा नदी के लिए मिशन कार्य योजना दस्तावेज जारी किया।\\n',\n",
       " 'इसके विपरीत, अगर कोई व्यक्ति अपने आस-पास की गंदगी को साफ करता है, तो वह ऊर्जा प्राप्त करता है, और वह स्वयं मौजूदा प्रतिकूल परिस्थितियों को स्वीकार नहीं करता है।\\n',\n",
       " 'प्रधानमंत्री ने कहा कि आयुष्\\u200dमान भारत योजना पूरी तरह से एक नई परस्\\u200dपर संबद्ध व्\\u200dयवस्\\u200dथा है जो स्\\u200dवस्\\u200dथ भारत बनाने में मदद करेगी।\\n',\n",
       " 'इस सिलसिले में उन्होंने भारत की डिजिटल अवरचना और आधार, यूपीआई, ई-नाम और जीईएम सहित उसके इंटरफेस की चर्चा की।\\n',\n",
       " 'उन्होंने कहा स्वास्थ्य क्षेत्र से जुड़े सभी हितधारक इस क्षेत्र में आमूल बदलाव लाने के लिए मिलकर काम कर रहे हैं।\\n',\n",
       " 'खूब पढ़ने वाली आबादी भारत को वैश्विक स्\\u200dतर पर उत्\\u200dकृष्\\u200dटता हासिल करने में मदद करेगी।\\n',\n",
       " 'हमारी चिंता एवं प्रार्थनाएं पीड़ितों और उनके परिवारों के साथ हैं।\\n',\n",
       " 'इस सन्दर्भ में, इस पहल के लिए F.S.S.A.I का हार्दिक अभिनन्दन करता हूँ।\\n']"
      ]
     },
     "execution_count": 14,
     "metadata": {},
     "output_type": "execute_result"
    }
   ],
   "source": [
    "hindi_sentences[:10]"
   ]
  },
  {
   "cell_type": "code",
   "execution_count": 15,
   "metadata": {},
   "outputs": [
    {
     "data": {
      "text/plain": [
       "['પ્રધાનમંત્રીએ જણાવ્યું હતું કે, તમામ રાજ્યો ઝડપથી પ્રગતિ કરી રહ્યાં છે એ વિકાસની દ્રષ્ટિ ભૂતપૂર્વ પ્રધાનમંત્રી વાજપેયીની છે.\\n',\n",
       " 'તેમણે જનસભાને સંબોધતા પાણીને કુદરતની પવિત્ર ભેટ ગણાવી હતી.\\n',\n",
       " 'પ્રધાનમંત્રીએ નર્મદા નદી માટેના મિશન વર્ક આયોજન- નર્મદા પ્રવાહનું પ્રકાશન કર્યું હતું.\\n',\n",
       " 'એનાથી વિપરીત જો કોઈ વ્યક્તિ આસપાસ ગંદકીને સાફ કરે, તો તેનામાં ઊર્જાનો સંચાર થાય છે અને પછી હાલનાં નુકસાનકારક સ્થિતિસંજોગોને વશ થતી નથી.\\n',\n",
       " 'પ્રધાનમંત્રીએ જણાવ્યું હતું કે, આયુષ્માન ભારત યોજના સંપૂર્ણપણે નવી ઇકોસિસ્ટમ ઊભી કરશે, જે સ્વસ્થ ભારતનું નિર્માણ કરવામાં મદદ કરશે.\\n',\n",
       " 'આ સંદર્ભમાં તેમણે ભારતનાં ડિજિટલ માળખા અને આધાર, યુપીઆઈ, ઇ-એનએએમ અને જીઇએમ સહિત એનાં વિવિધ માધ્યમો વિશે વાત કરી હતી.\\n',\n",
       " 'તેમણે જણાવ્યું હતું કે આરોગ્ય ક્ષેત્રે પરિવર્તન લાવવા માટે આ ક્ષેત્ર સાથે સંબંધિત તમામ હિતધારકો સાથે મળીને કામગીરી કરી રહ્યાં છે.\\n',\n",
       " 'સારું વાંચન ધરાવતો નાગરિક સમુદાય ભારતને વૈશ્વિક સ્તરે ટોચ પર લઈ જવામાં મદદરૂપ થશે.\\n',\n",
       " 'અમે પીડિતો અને તેમનાં કુટુંબીજનો સાથે છીએ.\\n',\n",
       " 'આ સંદર્ભમાં, આ પહેલ માટે F.S.S.A.I. ને હાર્દિક અભિનંદન આપું છું.\\n']"
      ]
     },
     "execution_count": 15,
     "metadata": {},
     "output_type": "execute_result"
    }
   ],
   "source": [
    "gujarati_sentences[:10]"
   ]
  },
  {
   "cell_type": "code",
   "execution_count": 21,
   "metadata": {
    "execution": {
     "iopub.execute_input": "2024-04-17T13:50:32.133455Z",
     "iopub.status.busy": "2024-04-17T13:50:32.132968Z",
     "iopub.status.idle": "2024-04-17T13:50:32.143036Z",
     "shell.execute_reply": "2024-04-17T13:50:32.141158Z",
     "shell.execute_reply.started": "2024-04-17T13:50:32.133422Z"
    },
    "scrolled": true
   },
   "outputs": [
    {
     "data": {
      "text/plain": [
       "['प्रधानमंत्री ने कहा कि आयुष्मान भारत योजना से एक पूरी तरह से नया पारिस्थितिकी तंत्र बनाया जाएगा जो स्वस्थ भारत बनाने में मदद करेगा',\n",
       " 'भारत का परीक्षण न केवल सफल रहा बल्कि एक तरह से भारत ने विज्ञान और प्रौद्योगिकी के क्षेत्र में अपनी ताकत का प्रदर्शन किया था। ',\n",
       " 'प्रधानमंत्री ने कहा कि मुझे खुशी है कि भूपेन दा को भारत रत्न से सम्मानित किया गया है।',\n",
       " 'मैं चंद्रपुर के इन युवा मित्रों और स्कूल के सदस्यों को हृदय से बधाई देता हूं। ',\n",
       " 'बड़े पैमाने पर संचालन और उच्च मूल्य जोड़ने के मामले में, एक निवेशक को एक बड़े घरेलू बाजार आकार, कुशल श्रम की उपलब्धता',\n",
       " 'ऑपरेशन के दौरान थाईलैंड की नौसेना के एक नाविक ने अपनी जान दे दी।',\n",
       " 'हम इस गतिशील क्षेत्र के लिए भूमि, समुद्र और हवाई संपर्क बनाना चाहते हैं। ',\n",
       " 'इसी महीने पुणे के 20 वर्षीय वेदांगी कुलकरणी दुनिया भर में सबसे तेज साइकिल से सफर करने वाले एशियाई बन गए',\n",
       " 'दोनों नेता 14 सितंबर को अहमदाबाद और मुंबई के बीच भारत की पहली हाई स्पीड रेल परियोजना के कामकाज की शुरुआत के अवसर',\n",
       " 'दुनिया के लगभग सभी देशों ने योग दिवस को अपना बनाया है।']"
      ]
     },
     "execution_count": 21,
     "metadata": {},
     "output_type": "execute_result"
    }
   ],
   "source": [
    "translated_english_hindi[:10]"
   ]
  },
  {
   "cell_type": "code",
   "execution_count": 20,
   "metadata": {},
   "outputs": [],
   "source": [
    "with open('test_random_50.en','w',encoding='utf-8') as f:\n",
    "    for s in english_sentences:\n",
    "        f.write(s)"
   ]
  },
  {
   "cell_type": "code",
   "execution_count": 21,
   "metadata": {},
   "outputs": [],
   "source": [
    "with open('test_random_50.hi','w',encoding='utf-8') as f:\n",
    "    for s in hindi_sentences:\n",
    "        f.write(s)"
   ]
  },
  {
   "cell_type": "code",
   "execution_count": 22,
   "metadata": {},
   "outputs": [],
   "source": [
    "with open('test_random_50.gu','w',encoding='utf-8') as f:\n",
    "    for s in gujarati_sentences:\n",
    "        f.write(s)"
   ]
  },
  {
   "cell_type": "code",
   "execution_count": 34,
   "metadata": {},
   "outputs": [],
   "source": [
    "import json\n",
    "json_data = json.dumps(english_sentences,ensure_ascii=False)\n",
    "with open('test_random_50_english.json', 'w',encoding='utf-8') as json_file:\n",
    "    json_file.write(json_data)"
   ]
  },
  {
   "cell_type": "code",
   "execution_count": 35,
   "metadata": {},
   "outputs": [],
   "source": [
    "json_data = json.dumps(hindi_sentences,ensure_ascii=False)\n",
    "with open('test_random_50_hindi.json', 'w',encoding='utf-8') as json_file:\n",
    "    json_file.write(json_data)"
   ]
  },
  {
   "cell_type": "code",
   "execution_count": 36,
   "metadata": {},
   "outputs": [],
   "source": [
    "json_data = json.dumps(gujarati_sentences,ensure_ascii=False)\n",
    "with open('test_random_50_gujarati.json', 'w',encoding='utf-8') as json_file:\n",
    "    json_file.write(json_data)"
   ]
  }
 ],
 "metadata": {
  "kaggle": {
   "accelerator": "none",
   "dataSources": [
    {
     "datasetId": 4811907,
     "sourceId": 8139153,
     "sourceType": "datasetVersion"
    }
   ],
   "dockerImageVersionId": 30684,
   "isGpuEnabled": false,
   "isInternetEnabled": true,
   "language": "python",
   "sourceType": "notebook"
  },
  "kernelspec": {
   "display_name": "Python 3 (ipykernel)",
   "language": "python",
   "name": "python3"
  },
  "language_info": {
   "codemirror_mode": {
    "name": "ipython",
    "version": 3
   },
   "file_extension": ".py",
   "mimetype": "text/x-python",
   "name": "python",
   "nbconvert_exporter": "python",
   "pygments_lexer": "ipython3",
   "version": "3.11.5"
  }
 },
 "nbformat": 4,
 "nbformat_minor": 4
}
