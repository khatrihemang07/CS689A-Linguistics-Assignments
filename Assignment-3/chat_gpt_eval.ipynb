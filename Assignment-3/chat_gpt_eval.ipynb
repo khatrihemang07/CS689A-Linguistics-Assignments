{
 "cells": [
  {
   "cell_type": "markdown",
   "metadata": {},
   "source": [
    "# Loading English Data"
   ]
  },
  {
   "cell_type": "code",
   "execution_count": 1,
   "metadata": {
    "execution": {
     "iopub.execute_input": "2024-04-17T13:21:05.067154Z",
     "iopub.status.busy": "2024-04-17T13:21:05.066807Z",
     "iopub.status.idle": "2024-04-17T13:21:05.089775Z",
     "shell.execute_reply": "2024-04-17T13:21:05.088899Z",
     "shell.execute_reply.started": "2024-04-17T13:21:05.067087Z"
    }
   },
   "outputs": [
    {
     "data": {
      "text/plain": [
       "['It is due to his vision of development that all these states are progressing rapidly, the Prime Minister said.\\n',\n",
       " 'Addressing a public meeting, he described water as a holy offering from nature.\\n',\n",
       " 'The Prime Minister released Narmada Pravah – the Mission Work Plan for the river Narmada.\\n',\n",
       " 'On the contrary, if one cleans up dirt in the surroundings, he gets energized, and then does not resign himself to existing adverse circumstances.\\n',\n",
       " 'PM said that Ayushman Bharat Scheme will create an entirely new ecosystem which helps to create healthier India.\\n',\n",
       " 'In this context he spoke of India’s digital infrastructure, and its interfaces including Aadhaar, UPI, e-NAM, and GeM.\\n',\n",
       " 'All the stake holders related to health sector are working together to transform the sector, PM said.\\n',\n",
       " 'A well-read population will help India excel globally.\\n',\n",
       " 'Our thoughts and prayers are with the victims and their families.\\n',\n",
       " 'In this context, I extend hearty greetings to F.S.S.A.I for this initiative.\\n']"
      ]
     },
     "execution_count": 1,
     "metadata": {},
     "output_type": "execute_result"
    }
   ],
   "source": [
    "with open('test_random_50.en','r',encoding='utf-8') as f:\n",
    "    english_sentences=f.readlines()\n",
    "\n",
    "english_sentences[:10]"
   ]
  },
  {
   "cell_type": "markdown",
   "metadata": {},
   "source": [
    "# Loading Hindi Data"
   ]
  },
  {
   "cell_type": "code",
   "execution_count": 2,
   "metadata": {
    "execution": {
     "iopub.execute_input": "2024-04-17T13:21:05.091825Z",
     "iopub.status.busy": "2024-04-17T13:21:05.091190Z",
     "iopub.status.idle": "2024-04-17T13:21:05.102621Z",
     "shell.execute_reply": "2024-04-17T13:21:05.101567Z",
     "shell.execute_reply.started": "2024-04-17T13:21:05.091789Z"
    }
   },
   "outputs": [
    {
     "data": {
      "text/plain": [
       "['प्रधानमंत्री ने कहा कि यह विकास की उनकी दृष्टि ही है कि ये सभी राज्य तेजी से प्रगति कर रहे हैं।\\n',\n",
       " 'एक जनसभा को संबोधित करते हुए प्रधानमंत्री ने जल को प्रकृति प्रदत्त भेंट बताया।\\n',\n",
       " 'प्रधानमंत्री ने नर्मदा प्रवाह – नर्मदा नदी के लिए मिशन कार्य योजना दस्तावेज जारी किया।\\n',\n",
       " 'इसके विपरीत, अगर कोई व्यक्ति अपने आस-पास की गंदगी को साफ करता है, तो वह ऊर्जा प्राप्त करता है, और वह स्वयं मौजूदा प्रतिकूल परिस्थितियों को स्वीकार नहीं करता है।\\n',\n",
       " 'प्रधानमंत्री ने कहा कि आयुष्\\u200dमान भारत योजना पूरी तरह से एक नई परस्\\u200dपर संबद्ध व्\\u200dयवस्\\u200dथा है जो स्\\u200dवस्\\u200dथ भारत बनाने में मदद करेगी।\\n',\n",
       " 'इस सिलसिले में उन्होंने भारत की डिजिटल अवरचना और आधार, यूपीआई, ई-नाम और जीईएम सहित उसके इंटरफेस की चर्चा की।\\n',\n",
       " 'उन्होंने कहा स्वास्थ्य क्षेत्र से जुड़े सभी हितधारक इस क्षेत्र में आमूल बदलाव लाने के लिए मिलकर काम कर रहे हैं।\\n',\n",
       " 'खूब पढ़ने वाली आबादी भारत को वैश्विक स्\\u200dतर पर उत्\\u200dकृष्\\u200dटता हासिल करने में मदद करेगी।\\n',\n",
       " 'हमारी चिंता एवं प्रार्थनाएं पीड़ितों और उनके परिवारों के साथ हैं।\\n',\n",
       " 'इस सन्दर्भ में, इस पहल के लिए F.S.S.A.I का हार्दिक अभिनन्दन करता हूँ।\\n']"
      ]
     },
     "execution_count": 2,
     "metadata": {},
     "output_type": "execute_result"
    }
   ],
   "source": [
    "with open('test_random_50.hi','r',encoding='utf-8') as f:\n",
    "    hindi_sentences=f.readlines()\n",
    "\n",
    "hindi_sentences[:10]"
   ]
  },
  {
   "cell_type": "markdown",
   "metadata": {},
   "source": [
    "# Loading Gujarati Data"
   ]
  },
  {
   "cell_type": "code",
   "execution_count": 3,
   "metadata": {
    "execution": {
     "iopub.execute_input": "2024-04-17T13:21:05.103907Z",
     "iopub.status.busy": "2024-04-17T13:21:05.103635Z",
     "iopub.status.idle": "2024-04-17T13:21:05.113785Z",
     "shell.execute_reply": "2024-04-17T13:21:05.112873Z",
     "shell.execute_reply.started": "2024-04-17T13:21:05.103884Z"
    },
    "scrolled": true
   },
   "outputs": [
    {
     "data": {
      "text/plain": [
       "['પ્રધાનમંત્રીએ જણાવ્યું હતું કે, તમામ રાજ્યો ઝડપથી પ્રગતિ કરી રહ્યાં છે એ વિકાસની દ્રષ્ટિ ભૂતપૂર્વ પ્રધાનમંત્રી વાજપેયીની છે.\\n',\n",
       " 'તેમણે જનસભાને સંબોધતા પાણીને કુદરતની પવિત્ર ભેટ ગણાવી હતી.\\n',\n",
       " 'પ્રધાનમંત્રીએ નર્મદા નદી માટેના મિશન વર્ક આયોજન- નર્મદા પ્રવાહનું પ્રકાશન કર્યું હતું.\\n',\n",
       " 'એનાથી વિપરીત જો કોઈ વ્યક્તિ આસપાસ ગંદકીને સાફ કરે, તો તેનામાં ઊર્જાનો સંચાર થાય છે અને પછી હાલનાં નુકસાનકારક સ્થિતિસંજોગોને વશ થતી નથી.\\n',\n",
       " 'પ્રધાનમંત્રીએ જણાવ્યું હતું કે, આયુષ્માન ભારત યોજના સંપૂર્ણપણે નવી ઇકોસિસ્ટમ ઊભી કરશે, જે સ્વસ્થ ભારતનું નિર્માણ કરવામાં મદદ કરશે.\\n',\n",
       " 'આ સંદર્ભમાં તેમણે ભારતનાં ડિજિટલ માળખા અને આધાર, યુપીઆઈ, ઇ-એનએએમ અને જીઇએમ સહિત એનાં વિવિધ માધ્યમો વિશે વાત કરી હતી.\\n',\n",
       " 'તેમણે જણાવ્યું હતું કે આરોગ્ય ક્ષેત્રે પરિવર્તન લાવવા માટે આ ક્ષેત્ર સાથે સંબંધિત તમામ હિતધારકો સાથે મળીને કામગીરી કરી રહ્યાં છે.\\n',\n",
       " 'સારું વાંચન ધરાવતો નાગરિક સમુદાય ભારતને વૈશ્વિક સ્તરે ટોચ પર લઈ જવામાં મદદરૂપ થશે.\\n',\n",
       " 'અમે પીડિતો અને તેમનાં કુટુંબીજનો સાથે છીએ.\\n',\n",
       " 'આ સંદર્ભમાં, આ પહેલ માટે F.S.S.A.I. ને હાર્દિક અભિનંદન આપું છું.\\n']"
      ]
     },
     "execution_count": 3,
     "metadata": {},
     "output_type": "execute_result"
    }
   ],
   "source": [
    "with open('test_random_50.gu','r',encoding='utf-8') as f:\n",
    "    gujarati_sentences=f.readlines()\n",
    "\n",
    "gujarati_sentences[:10]"
   ]
  },
  {
   "cell_type": "code",
   "execution_count": 4,
   "metadata": {},
   "outputs": [
    {
     "data": {
      "text/plain": [
       "['विकास की उनकी दृष्टि के कारण ही ये सभी राज्य तेजी से प्रगति कर रहे हैं, प्रधानमंत्री ने कहा।',\n",
       " 'एक सार्वजनिक सभा में संबोधित करते हुए, उन्होंने पानी को प्रकृति की एक पवित्र पेशकश के रूप में वर्णित किया।',\n",
       " 'प्रधानमंत्री ने नर्मदा प्रवाह - नदी नर्मदा के लिए मिशन कार्य योजना जारी की।',\n",
       " 'इसके विपरीत, यदि कोई अपने आसपास की गंदगी को साफ करता है, तो वह ऊर्जावान हो जाता है, और फिर मौजूदा प्रतिकूल परिस्थितियों से समर्पण नहीं करता है।',\n",
       " 'प्रधानमंत्री ने कहा कि आयुष्मान भारत योजना एक पूरी तरह से नई पारिस्थितिकी तंत्र बनाएगी जो स्वस्थ भारत बनाने में मदद करेगी।',\n",
       " 'इस संदर्भ में उन्होंने भारत के डिजिटल अवसंरचना की बात की, और इसके इंटरफेस जिसमें आधार, यूपीआई, ई-नाम, और जीईएम शामिल हैं।',\n",
       " 'स्वास्थ्य क्षेत्र से जुड़े सभी हितधारक मिलकर क्षेत्र को बदलने के लिए काम कर रहे हैं, प्रधानमंत्री ने कहा।',\n",
       " 'एक अच्छी तरह से पढ़ा-लिखा आबादी भारत को वैश्विक स्तर पर उत्कृष्ट बनाने में मदद करेगी।',\n",
       " 'हमारी सोच और प्रार्थनाएँ पीड़ितों और उनके परिवारों के साथ हैं।',\n",
       " 'इस संदर्भ में, मैं इस पहल के लिए एफ.एस.एस.ए.आई को हार्दिक बधाई देता हूँ।']"
      ]
     },
     "execution_count": 4,
     "metadata": {},
     "output_type": "execute_result"
    }
   ],
   "source": [
    "import json\n",
    "\n",
    "with open('chat/translated_english_hindi.json','r',encoding='utf-8') as f:\n",
    "    translated_english_hindi=json.load(f)\n",
    "\n",
    "translated_english_hindi[:10]"
   ]
  },
  {
   "cell_type": "code",
   "execution_count": 5,
   "metadata": {},
   "outputs": [
    {
     "data": {
      "text/plain": [
       "['The Prime Minister said that it is his vision of development that is enabling all these states to progress rapidly.\\n',\n",
       " 'Addressing a public gathering, the Prime Minister described water as a gift bestowed by nature.\\n',\n",
       " 'The Prime Minister released a mission action plan document for the Narmada flow – the Narmada river.\\n',\n",
       " 'On the contrary, if a person cleans the dirt around him, he gains energy, and does not accept the adverse circumstances around him.\\n',\n",
       " 'The Prime Minister said that the Ayushman Bharat scheme is an entirely new interlinked system that will help in creating a healthy India.\\n',\n",
       " \"In this regard, he discussed India's digital infrastructure and interfaces including Aadhar, UPI, e-NAM, and GeM.\\n\",\n",
       " 'He said that all stakeholders related to the health sector are working together to bring about a fundamental change in this field.\\n',\n",
       " 'A well-educated population will help India achieve excellence on a global level.\\n',\n",
       " 'Our concerns and prayers are with the victims and their families.\\n',\n",
       " 'In this context, I heartily congratulate F.S.S.A.I for this initiative.\\n']"
      ]
     },
     "execution_count": 5,
     "metadata": {},
     "output_type": "execute_result"
    }
   ],
   "source": [
    "with open('chat/translated_hindi_english.json','r',encoding='utf-8') as f:\n",
    "    translated_hindi_english=json.load(f)\n",
    "\n",
    "translated_hindi_english[:10]"
   ]
  },
  {
   "cell_type": "code",
   "execution_count": 6,
   "metadata": {},
   "outputs": [
    {
     "data": {
      "text/plain": [
       "['પ્રધાનમંત્રી કહ્યું કે વિકાસ તેમની દૃષ્ટિને જાહેર કરી રહ્યું છે કે આ સર્વ રાજ્યો તેજીથી અગાઉ વધુ કરાય છે।\\n',\n",
       " 'એક જનસભાના સમયગાળા પર પ્રધાનમંત્રી ને જલ ને પ્રકૃતિ દ્વારા પ્રદાન કરેલી ભેંટ તરીકે જાહેર કર્યો હતો।\\n',\n",
       " 'પ્રધાનમંત્રી ને નર્મદા પ્રવાહ - નર્મદા નદી માટે મિશન કાર્યક્રમ યોજના જાહેર કરી હતી।\\n',\n",
       " 'પરંતુ, જો કોઈ વ્યક્તિ તેમના આસપાસની મળમળાહટને સાફ કરે છે, તો તે ઊર્જા પ્રાપ્ત કરે છે અને તે પરિસ્થિતિઓને સ્વીકાર કરવાની તૈયારી નહીં કરે છે।\\n',\n",
       " 'પ્રધાનમંત્રી કહ્યું કે આયુષ્માન ભારત યોજના સંપૂર્ણ રીતે એક નવી આપસી સંબંધ સિસ્ટમ છે જે સ્વસ્થ ભારત બનાવવામાં મદદ કરશે।\\n',\n",
       " 'આ સંબંધમાં, તેને ભારતની ડિજિટલ આધારની અને આધાર, યુપીએઆઇ, ઇ-નામ અને જીઈએમ સહિત તેના ઇન્ટરફેસ પર ચર્ચા કરી હતી।\\n',\n",
       " 'તેમે કહ્યું કે આરોગ્ય ક્ષેત્રમાં જોડાયેલા તમામ હિતધારકો આ ક્ષેત્રમાં સામાન્ય પરિસ્થિતિઓને બદલવા માટે મિલકત કરવામાં આવી રહ્યા છે।\\n',\n",
       " 'અચ્છા શિક્ષણ મળનારી આબાદી ભારતને વૈશ્વિક સ્તરે ઉત્કૃષ્ટતા મેળવવામાં મદદ કરશે।\\n',\n",
       " 'અમારી ચિંતા અને પ્રાર્થનાઓ પીડિતો અને તેમના પરિવારો સાથે છે।\\n',\n",
       " 'આ સંદર્ભમાં, આ પહેલો માટે F.S.S.A.I નું હાર્દિક આભાર આપું છું।\\n']"
      ]
     },
     "execution_count": 6,
     "metadata": {},
     "output_type": "execute_result"
    }
   ],
   "source": [
    "with open('chat/translated_hindi_gujarati.json','r',encoding='utf-8') as f:\n",
    "    translated_hindi_gujarati=json.load(f)\n",
    "\n",
    "translated_hindi_gujarati[:10]"
   ]
  },
  {
   "cell_type": "code",
   "execution_count": 7,
   "metadata": {},
   "outputs": [
    {
     "data": {
      "text/plain": [
       "['प्रधानमंत्री ने बताया था कि सभी राज्य तेजी से प्रगति कर रहे हैं, यह विकास की दृष्टि पूर्व प्रधानमंत्री वाजपेयी की है।',\n",
       " 'उन्होंने जनसभा को संबोधित करते हुए पानी को प्रकृति की पवित्र भेंट बताया था।',\n",
       " 'प्रधानमंत्री ने नर्मदा नदी के लिए मिशन वर्क की योजना - नर्मदा प्रवाह का प्रकाशन किया था।',\n",
       " 'इसके विपरीत, अगर कोई व्यक्ति आसपास की गंदगी साफ करता है, तो उसमें ऊर्जा का संचार होता है और फिर वर्तमान की हानिकारक परिस्थितियों को नियंत्रित नहीं करता है।',\n",
       " 'प्रधानमंत्री ने बताया था कि आयुष्मान भारत योजना पूरी तरह से नई इकोसिस्टम उपस्थित करेगी, जो स्वस्थ भारत के निर्माण में मदद करेगी।',\n",
       " 'इस संदर्भ में उन्होंने भारत के डिजिटल ढांचे और आधार, UPI, e-NAM और GeM सहित उसके विभिन्न माध्यमों के बारे में बात की थी।',\n",
       " 'उन्होंने बताया था कि स्वास्थ्य क्षेत्र में परिवर्तन लाने के लिए इस क्षेत्र से संबंधित सभी हितधारकों के साथ मिलकर काम किया जा रहा है।',\n",
       " 'अच्छी पढ़ाई वाला नागरिक समुदाय भारत को वैश्विक स्तर पर शीर्ष पर ले जाने में मददगार होगा।',\n",
       " 'हम पीड़ितों और उनके परिवारजनों के साथ हैं।',\n",
       " 'इस संदर्भ में, मैं इस पहल के लिए FSSAI को हार्दिक बधाई देता हूं।']"
      ]
     },
     "execution_count": 7,
     "metadata": {},
     "output_type": "execute_result"
    }
   ],
   "source": [
    "with open('chat/translated_gujarati_hindi.json','r',encoding='utf-8') as f:\n",
    "    translated_gujarati_hindi=json.load(f)\n",
    "\n",
    "translated_gujarati_hindi[:10]"
   ]
  },
  {
   "cell_type": "markdown",
   "metadata": {},
   "source": [
    "# BLEU Score"
   ]
  },
  {
   "cell_type": "code",
   "execution_count": 8,
   "metadata": {},
   "outputs": [
    {
     "name": "stdout",
     "output_type": "stream",
     "text": [
      "Requirement already satisfied: indic-nlp-library in c:\\users\\din_djarin\\anaconda3\\lib\\site-packages (0.92)\n",
      "Requirement already satisfied: sphinx-argparse in c:\\users\\din_djarin\\anaconda3\\lib\\site-packages (from indic-nlp-library) (0.4.0)\n",
      "Requirement already satisfied: sphinx-rtd-theme in c:\\users\\din_djarin\\anaconda3\\lib\\site-packages (from indic-nlp-library) (2.0.0)\n",
      "Requirement already satisfied: morfessor in c:\\users\\din_djarin\\anaconda3\\lib\\site-packages (from indic-nlp-library) (2.0.6)\n",
      "Requirement already satisfied: pandas in c:\\users\\din_djarin\\anaconda3\\lib\\site-packages (from indic-nlp-library) (2.0.3)\n",
      "Requirement already satisfied: numpy in c:\\users\\din_djarin\\anaconda3\\lib\\site-packages (from indic-nlp-library) (1.24.3)\n",
      "Requirement already satisfied: python-dateutil>=2.8.2 in c:\\users\\din_djarin\\anaconda3\\lib\\site-packages (from pandas->indic-nlp-library) (2.8.2)\n",
      "Requirement already satisfied: pytz>=2020.1 in c:\\users\\din_djarin\\anaconda3\\lib\\site-packages (from pandas->indic-nlp-library) (2023.3.post1)\n",
      "Requirement already satisfied: tzdata>=2022.1 in c:\\users\\din_djarin\\anaconda3\\lib\\site-packages (from pandas->indic-nlp-library) (2023.3)\n",
      "Requirement already satisfied: sphinx>=1.2.0 in c:\\users\\din_djarin\\anaconda3\\lib\\site-packages (from sphinx-argparse->indic-nlp-library) (5.0.2)\n",
      "Requirement already satisfied: docutils<0.21 in c:\\users\\din_djarin\\anaconda3\\lib\\site-packages (from sphinx-rtd-theme->indic-nlp-library) (0.18.1)\n",
      "Requirement already satisfied: sphinxcontrib-jquery<5,>=4 in c:\\users\\din_djarin\\anaconda3\\lib\\site-packages (from sphinx-rtd-theme->indic-nlp-library) (4.1)\n",
      "Requirement already satisfied: six>=1.5 in c:\\users\\din_djarin\\anaconda3\\lib\\site-packages (from python-dateutil>=2.8.2->pandas->indic-nlp-library) (1.16.0)\n",
      "Requirement already satisfied: sphinxcontrib-applehelp in c:\\users\\din_djarin\\anaconda3\\lib\\site-packages (from sphinx>=1.2.0->sphinx-argparse->indic-nlp-library) (1.0.2)\n",
      "Requirement already satisfied: sphinxcontrib-devhelp in c:\\users\\din_djarin\\anaconda3\\lib\\site-packages (from sphinx>=1.2.0->sphinx-argparse->indic-nlp-library) (1.0.2)\n",
      "Requirement already satisfied: sphinxcontrib-jsmath in c:\\users\\din_djarin\\anaconda3\\lib\\site-packages (from sphinx>=1.2.0->sphinx-argparse->indic-nlp-library) (1.0.1)\n",
      "Requirement already satisfied: sphinxcontrib-htmlhelp>=2.0.0 in c:\\users\\din_djarin\\anaconda3\\lib\\site-packages (from sphinx>=1.2.0->sphinx-argparse->indic-nlp-library) (2.0.0)\n",
      "Requirement already satisfied: sphinxcontrib-serializinghtml>=1.1.5 in c:\\users\\din_djarin\\anaconda3\\lib\\site-packages (from sphinx>=1.2.0->sphinx-argparse->indic-nlp-library) (1.1.5)\n",
      "Requirement already satisfied: sphinxcontrib-qthelp in c:\\users\\din_djarin\\anaconda3\\lib\\site-packages (from sphinx>=1.2.0->sphinx-argparse->indic-nlp-library) (1.0.3)\n",
      "Requirement already satisfied: Jinja2>=2.3 in c:\\users\\din_djarin\\anaconda3\\lib\\site-packages (from sphinx>=1.2.0->sphinx-argparse->indic-nlp-library) (3.1.2)\n",
      "Requirement already satisfied: Pygments>=2.0 in c:\\users\\din_djarin\\anaconda3\\lib\\site-packages (from sphinx>=1.2.0->sphinx-argparse->indic-nlp-library) (2.15.1)\n",
      "Requirement already satisfied: snowballstemmer>=1.1 in c:\\users\\din_djarin\\anaconda3\\lib\\site-packages (from sphinx>=1.2.0->sphinx-argparse->indic-nlp-library) (2.2.0)\n",
      "Requirement already satisfied: babel>=1.3 in c:\\users\\din_djarin\\anaconda3\\lib\\site-packages (from sphinx>=1.2.0->sphinx-argparse->indic-nlp-library) (2.11.0)\n",
      "Requirement already satisfied: alabaster<0.8,>=0.7 in c:\\users\\din_djarin\\anaconda3\\lib\\site-packages (from sphinx>=1.2.0->sphinx-argparse->indic-nlp-library) (0.7.12)\n",
      "Requirement already satisfied: imagesize in c:\\users\\din_djarin\\anaconda3\\lib\\site-packages (from sphinx>=1.2.0->sphinx-argparse->indic-nlp-library) (1.4.1)\n",
      "Requirement already satisfied: requests>=2.5.0 in c:\\users\\din_djarin\\anaconda3\\lib\\site-packages (from sphinx>=1.2.0->sphinx-argparse->indic-nlp-library) (2.31.0)\n",
      "Requirement already satisfied: packaging in c:\\users\\din_djarin\\anaconda3\\lib\\site-packages (from sphinx>=1.2.0->sphinx-argparse->indic-nlp-library) (23.1)\n",
      "Requirement already satisfied: colorama>=0.3.5 in c:\\users\\din_djarin\\anaconda3\\lib\\site-packages (from sphinx>=1.2.0->sphinx-argparse->indic-nlp-library) (0.4.6)\n",
      "Requirement already satisfied: MarkupSafe>=2.0 in c:\\users\\din_djarin\\anaconda3\\lib\\site-packages (from Jinja2>=2.3->sphinx>=1.2.0->sphinx-argparse->indic-nlp-library) (2.1.1)\n",
      "Requirement already satisfied: charset-normalizer<4,>=2 in c:\\users\\din_djarin\\anaconda3\\lib\\site-packages (from requests>=2.5.0->sphinx>=1.2.0->sphinx-argparse->indic-nlp-library) (2.0.4)\n",
      "Requirement already satisfied: idna<4,>=2.5 in c:\\users\\din_djarin\\anaconda3\\lib\\site-packages (from requests>=2.5.0->sphinx>=1.2.0->sphinx-argparse->indic-nlp-library) (3.4)\n",
      "Requirement already satisfied: urllib3<3,>=1.21.1 in c:\\users\\din_djarin\\anaconda3\\lib\\site-packages (from requests>=2.5.0->sphinx>=1.2.0->sphinx-argparse->indic-nlp-library) (1.26.16)\n",
      "Requirement already satisfied: certifi>=2017.4.17 in c:\\users\\din_djarin\\anaconda3\\lib\\site-packages (from requests>=2.5.0->sphinx>=1.2.0->sphinx-argparse->indic-nlp-library) (2023.7.22)\n"
     ]
    },
    {
     "name": "stderr",
     "output_type": "stream",
     "text": [
      "WARNING: There was an error checking the latest version of pip.\n"
     ]
    },
    {
     "name": "stdout",
     "output_type": "stream",
     "text": [
      "Requirement already satisfied: nltk in c:\\users\\din_djarin\\anaconda3\\lib\\site-packages (3.8.1)\n",
      "Requirement already satisfied: click in c:\\users\\din_djarin\\anaconda3\\lib\\site-packages (from nltk) (8.0.4)\n",
      "Requirement already satisfied: joblib in c:\\users\\din_djarin\\anaconda3\\lib\\site-packages (from nltk) (1.2.0)\n",
      "Requirement already satisfied: regex>=2021.8.3 in c:\\users\\din_djarin\\anaconda3\\lib\\site-packages (from nltk) (2022.7.9)\n",
      "Requirement already satisfied: tqdm in c:\\users\\din_djarin\\anaconda3\\lib\\site-packages (from nltk) (4.65.0)\n",
      "Requirement already satisfied: colorama in c:\\users\\din_djarin\\anaconda3\\lib\\site-packages (from click->nltk) (0.4.6)\n"
     ]
    },
    {
     "name": "stderr",
     "output_type": "stream",
     "text": [
      "WARNING: There was an error checking the latest version of pip.\n",
      "<frozen runpy>:128: RuntimeWarning: 'nltk.downloader' found in sys.modules after import of package 'nltk', but prior to execution of 'nltk.downloader'; this may result in unpredictable behaviour\n",
      "[nltk_data] Downloading package punkt to\n",
      "[nltk_data]     C:\\Users\\Din_Djarin\\AppData\\Roaming\\nltk_data...\n",
      "[nltk_data]   Package punkt is already up-to-date!\n"
     ]
    }
   ],
   "source": [
    "!pip install indic-nlp-library\n",
    "!pip install nltk\n",
    "!python -m nltk.downloader punkt"
   ]
  },
  {
   "cell_type": "code",
   "execution_count": 9,
   "metadata": {
    "execution": {
     "iopub.execute_input": "2024-04-17T14:23:10.788051Z",
     "iopub.status.busy": "2024-04-17T14:23:10.787450Z",
     "iopub.status.idle": "2024-04-17T14:23:11.674786Z",
     "shell.execute_reply": "2024-04-17T14:23:11.673932Z",
     "shell.execute_reply.started": "2024-04-17T14:23:10.788018Z"
    }
   },
   "outputs": [],
   "source": [
    "import nltk\n",
    "from nltk.tokenize import word_tokenize\n",
    "from nltk.translate.bleu_score import corpus_bleu,sentence_bleu\n",
    "from indicnlp.tokenize import indic_tokenize  \n",
    "\n",
    "def compute_bleu_e(true_sentences,translated_sentences):\n",
    "    corpus_bleu_a=corpus_bleu([[a] for a in true_sentences],translated_sentences)\n",
    "    true_tokens=[word_tokenize(t) for t in true_sentences]\n",
    "    translated_tokens=[word_tokenize(t) for t in translated_sentences]\n",
    "    bleu_scores = []\n",
    "    for a, b in zip(true_tokens, translated_tokens):\n",
    "        score = sentence_bleu([a], b)\n",
    "        bleu_scores.append(score)\n",
    "    average_bleu = sum(bleu_scores) / len(bleu_scores)\n",
    "    return [corpus_bleu_a,bleu_scores,average_bleu]\n",
    "\n",
    "def compute_bleu_i(true_sentences,translated_sentences):\n",
    "    corpus_bleu_a=corpus_bleu([[a] for a in true_sentences],translated_sentences)\n",
    "    true_tokens=[indic_tokenize.trivial_tokenize(t) for t in true_sentences]\n",
    "    translated_tokens=[indic_tokenize.trivial_tokenize(t) for t in translated_sentences]\n",
    "    bleu_scores = []\n",
    "    for a, b in zip(true_tokens, translated_tokens):\n",
    "        score = sentence_bleu([a], b)\n",
    "        bleu_scores.append(score)\n",
    "    average_bleu = sum(bleu_scores) / len(bleu_scores)\n",
    "    return [corpus_bleu_a,bleu_scores,average_bleu]\n",
    "    "
   ]
  },
  {
   "cell_type": "markdown",
   "metadata": {},
   "source": [
    "# English -> Hindi"
   ]
  },
  {
   "cell_type": "code",
   "execution_count": 19,
   "metadata": {
    "execution": {
     "iopub.execute_input": "2024-04-17T14:53:17.251284Z",
     "iopub.status.busy": "2024-04-17T14:53:17.250463Z",
     "iopub.status.idle": "2024-04-17T14:53:17.890877Z",
     "shell.execute_reply": "2024-04-17T14:53:17.889852Z",
     "shell.execute_reply.started": "2024-04-17T14:53:17.251248Z"
    }
   },
   "outputs": [
    {
     "name": "stdout",
     "output_type": "stream",
     "text": [
      "ENGLISH -> HINDI\n",
      "Corpus BLEU:  0.6389217346061832\n",
      "Sentence BLEU of first 5 sentences:  [0.5283214530294199, 2.66669249540442e-78, 0.39540418229654267, 0.38182874347040663, 0.36841823364959964]\n",
      "Average of Sentence BLEU score:  0.2660538752060113\n"
     ]
    }
   ],
   "source": [
    "result=compute_bleu_i(hindi_sentences,translated_english_hindi)\n",
    "print(\"ENGLISH -> HINDI\")\n",
    "print(\"Corpus BLEU: \",result[0])\n",
    "print(\"Sentence BLEU of first 5 sentences: \",result[1][:5])\n",
    "print(\"Average of Sentence BLEU score: \",result[2])"
   ]
  },
  {
   "cell_type": "markdown",
   "metadata": {},
   "source": [
    "# Hindi -> English"
   ]
  },
  {
   "cell_type": "code",
   "execution_count": 11,
   "metadata": {
    "execution": {
     "iopub.execute_input": "2024-04-17T14:53:19.399224Z",
     "iopub.status.busy": "2024-04-17T14:53:19.398226Z",
     "iopub.status.idle": "2024-04-17T14:53:20.041534Z",
     "shell.execute_reply": "2024-04-17T14:53:20.040381Z",
     "shell.execute_reply.started": "2024-04-17T14:53:19.399180Z"
    }
   },
   "outputs": [
    {
     "name": "stdout",
     "output_type": "stream",
     "text": [
      "HINDI -> English\n",
      "Corpus BLEU:  0.6641880665845755\n",
      "Sentence BLEU of first 5 sentences:  [0.3023266713085592, 0.23693055763743093, 0.20105373454060027, 0.20216942144070948, 3.0937710362810047e-78]\n",
      "Average of Sentence BLEU score:  0.22864325323416626\n"
     ]
    }
   ],
   "source": [
    "result=compute_bleu_e(english_sentences,translated_hindi_english)\n",
    "print(\"HINDI -> English\")\n",
    "print(\"Corpus BLEU: \",result[0])\n",
    "print(\"Sentence BLEU of first 5 sentences: \",result[1][:5])\n",
    "print(\"Average of Sentence BLEU score: \",result[2])"
   ]
  },
  {
   "cell_type": "markdown",
   "metadata": {},
   "source": [
    "# Hindi -> Gujarati"
   ]
  },
  {
   "cell_type": "code",
   "execution_count": 12,
   "metadata": {
    "execution": {
     "iopub.execute_input": "2024-04-17T14:53:21.404026Z",
     "iopub.status.busy": "2024-04-17T14:53:21.403135Z",
     "iopub.status.idle": "2024-04-17T14:53:21.460598Z",
     "shell.execute_reply": "2024-04-17T14:53:21.459132Z",
     "shell.execute_reply.started": "2024-04-17T14:53:21.403994Z"
    }
   },
   "outputs": [
    {
     "name": "stdout",
     "output_type": "stream",
     "text": [
      "HINDI -> GUJARATI\n",
      "Corpus BLEU:  0.5470547429012588\n",
      "Sentence BLEU of first 5 sentences:  [1.384292958842266e-231, 8.726094729337945e-232, 7.053663163619216e-155, 2.6690005334335867e-78, 2.993590931940899e-78]\n",
      "Average of Sentence BLEU score:  0.0907199427313406\n"
     ]
    }
   ],
   "source": [
    "result=compute_bleu_i(gujarati_sentences,translated_hindi_gujarati)\n",
    "print(\"HINDI -> GUJARATI\")\n",
    "print(\"Corpus BLEU: \",result[0])\n",
    "print(\"Sentence BLEU of first 5 sentences: \",result[1][:5])\n",
    "print(\"Average of Sentence BLEU score: \",result[2])"
   ]
  },
  {
   "cell_type": "markdown",
   "metadata": {},
   "source": [
    "# Gujarati -> Hindi"
   ]
  },
  {
   "cell_type": "code",
   "execution_count": 13,
   "metadata": {
    "execution": {
     "iopub.execute_input": "2024-04-17T14:53:31.742346Z",
     "iopub.status.busy": "2024-04-17T14:53:31.741910Z",
     "iopub.status.idle": "2024-04-17T14:53:31.799907Z",
     "shell.execute_reply": "2024-04-17T14:53:31.798614Z",
     "shell.execute_reply.started": "2024-04-17T14:53:31.742315Z"
    }
   },
   "outputs": [
    {
     "name": "stdout",
     "output_type": "stream",
     "text": [
      "GUJARATI -> HINDI\n",
      "Corpus BLEU:  0.6415912120284427\n",
      "Sentence BLEU of first 5 sentences:  [0.3908264772485825, 0.302891221374327, 0.30928520903947526, 0.31869105587691365, 0.2774870273560582]\n",
      "Average of Sentence BLEU score:  0.22480909990671402\n"
     ]
    }
   ],
   "source": [
    "result=compute_bleu_i(hindi_sentences,translated_gujarati_hindi)\n",
    "print(\"GUJARATI -> HINDI\")\n",
    "print(\"Corpus BLEU: \",result[0])\n",
    "print(\"Sentence BLEU of first 5 sentences: \",result[1][:5])\n",
    "print(\"Average of Sentence BLEU score: \",result[2])"
   ]
  },
  {
   "cell_type": "markdown",
   "metadata": {},
   "source": [
    "# ROUGE Score"
   ]
  },
  {
   "cell_type": "code",
   "execution_count": 14,
   "metadata": {
    "execution": {
     "iopub.execute_input": "2024-04-17T14:53:33.126810Z",
     "iopub.status.busy": "2024-04-17T14:53:33.125809Z",
     "iopub.status.idle": "2024-04-17T14:53:33.133325Z",
     "shell.execute_reply": "2024-04-17T14:53:33.132546Z",
     "shell.execute_reply.started": "2024-04-17T14:53:33.126764Z"
    }
   },
   "outputs": [],
   "source": [
    "from rouge import Rouge\n",
    "def calculate_rouge_score(original_sentences,translated_sentences):\n",
    "    rouge=Rouge()\n",
    "    scores=rouge.get_scores(translated_sentences,original_sentences,avg=True)\n",
    "    return scores"
   ]
  },
  {
   "cell_type": "markdown",
   "metadata": {},
   "source": [
    "## ROUGE Score for English -> Hindi"
   ]
  },
  {
   "cell_type": "code",
   "execution_count": 15,
   "metadata": {
    "execution": {
     "iopub.execute_input": "2024-04-17T14:53:34.482997Z",
     "iopub.status.busy": "2024-04-17T14:53:34.482611Z",
     "iopub.status.idle": "2024-04-17T14:53:34.541451Z",
     "shell.execute_reply": "2024-04-17T14:53:34.540070Z",
     "shell.execute_reply.started": "2024-04-17T14:53:34.482966Z"
    }
   },
   "outputs": [
    {
     "name": "stdout",
     "output_type": "stream",
     "text": [
      "ROUGE Scores for English -> Hindi: \n",
      "ROUGE_1:  {'r': 0.5616689614875038, 'p': 0.5754681551162976, 'f': 0.5655519956278874}\n",
      "ROUGE_2:  {'r': 0.3374265794539586, 'p': 0.3559605966631829, 'f': 0.3449403129809931}\n",
      "ROUGE_L:  {'r': 0.5303979421686582, 'p': 0.5428585983160286, 'f': 0.5337358091277913}\n"
     ]
    }
   ],
   "source": [
    "rouge_english_hindi=calculate_rouge_score(hindi_sentences,translated_english_hindi)\n",
    "print(\"ROUGE Scores for English -> Hindi: \")\n",
    "print(\"ROUGE_1: \",rouge_english_hindi['rouge-1'])\n",
    "print(\"ROUGE_2: \",rouge_english_hindi['rouge-2'])\n",
    "print(\"ROUGE_L: \",rouge_english_hindi['rouge-l'])"
   ]
  },
  {
   "cell_type": "markdown",
   "metadata": {},
   "source": [
    "## ROUGE Score for Hindi -> English"
   ]
  },
  {
   "cell_type": "code",
   "execution_count": 16,
   "metadata": {
    "execution": {
     "iopub.execute_input": "2024-04-17T14:53:38.590566Z",
     "iopub.status.busy": "2024-04-17T14:53:38.590214Z",
     "iopub.status.idle": "2024-04-17T14:53:38.648112Z",
     "shell.execute_reply": "2024-04-17T14:53:38.646845Z",
     "shell.execute_reply.started": "2024-04-17T14:53:38.590542Z"
    }
   },
   "outputs": [
    {
     "name": "stdout",
     "output_type": "stream",
     "text": [
      "ROUGE Scores for English -> Hindi: \n",
      "ROUGE_1:  {'r': 0.6208237268556963, 'p': 0.6007916935594281, 'f': 0.6041748340597154}\n",
      "ROUGE_2:  {'r': 0.3525789014981368, 'p': 0.332829835757787, 'f': 0.3386101726915858}\n",
      "ROUGE_L:  {'r': 0.5851867737973876, 'p': 0.5653220036383652, 'f': 0.5690573890059228}\n"
     ]
    }
   ],
   "source": [
    "rouge_hindi_english=calculate_rouge_score(english_sentences,translated_hindi_english)\n",
    "print(\"ROUGE Scores for English -> Hindi: \")\n",
    "print(\"ROUGE_1: \",rouge_hindi_english['rouge-1'])\n",
    "print(\"ROUGE_2: \",rouge_hindi_english['rouge-2'])\n",
    "print(\"ROUGE_L: \",rouge_hindi_english['rouge-l'])"
   ]
  },
  {
   "cell_type": "markdown",
   "metadata": {},
   "source": [
    "## ROUGE Score for Hindi -> Gujarati"
   ]
  },
  {
   "cell_type": "code",
   "execution_count": 17,
   "metadata": {
    "execution": {
     "iopub.execute_input": "2024-04-17T14:53:39.055471Z",
     "iopub.status.busy": "2024-04-17T14:53:39.055078Z",
     "iopub.status.idle": "2024-04-17T14:53:39.112417Z",
     "shell.execute_reply": "2024-04-17T14:53:39.111113Z",
     "shell.execute_reply.started": "2024-04-17T14:53:39.055443Z"
    }
   },
   "outputs": [
    {
     "name": "stdout",
     "output_type": "stream",
     "text": [
      "ROUGE Scores for Hindi -> Gujarati: \n",
      "ROUGE_1:  {'r': 0.3620364591601098, 'p': 0.40467376115606046, 'f': 0.38073600177911615}\n",
      "ROUGE_2:  {'r': 0.1476423312295906, 'p': 0.16506323355007563, 'f': 0.15528338433914354}\n",
      "ROUGE_L:  {'r': 0.3464523321759828, 'p': 0.3876591091414084, 'f': 0.36451291807989233}\n"
     ]
    }
   ],
   "source": [
    "rouge_hindi_gujarati=calculate_rouge_score(gujarati_sentences,translated_hindi_gujarati)\n",
    "print(\"ROUGE Scores for Hindi -> Gujarati: \")\n",
    "print(\"ROUGE_1: \",rouge_hindi_gujarati['rouge-1'])\n",
    "print(\"ROUGE_2: \",rouge_hindi_gujarati['rouge-2'])\n",
    "print(\"ROUGE_L: \",rouge_hindi_gujarati['rouge-l'])"
   ]
  },
  {
   "cell_type": "markdown",
   "metadata": {},
   "source": [
    "## ROUGE Score for Gujarati -> Hindi"
   ]
  },
  {
   "cell_type": "code",
   "execution_count": 18,
   "metadata": {
    "execution": {
     "iopub.execute_input": "2024-04-17T14:53:40.233555Z",
     "iopub.status.busy": "2024-04-17T14:53:40.233168Z",
     "iopub.status.idle": "2024-04-17T14:53:40.287608Z",
     "shell.execute_reply": "2024-04-17T14:53:40.286338Z",
     "shell.execute_reply.started": "2024-04-17T14:53:40.233526Z"
    }
   },
   "outputs": [
    {
     "name": "stdout",
     "output_type": "stream",
     "text": [
      "ROUGE Scores for English -> Hindi: \n",
      "ROUGE_1:  {'r': 0.5488980808194363, 'p': 0.551901731147374, 'f': 0.5481015284656103}\n",
      "ROUGE_2:  {'r': 0.30898341749260455, 'p': 0.31593399870571093, 'f': 0.3110998545989137}\n",
      "ROUGE_L:  {'r': 0.5247116409734056, 'p': 0.5280888313778075, 'f': 0.5241999242236364}\n"
     ]
    }
   ],
   "source": [
    "rouge_gujarati_hindi=calculate_rouge_score(hindi_sentences,translated_gujarati_hindi)\n",
    "print(\"ROUGE Scores for English -> Hindi: \")\n",
    "print(\"ROUGE_1: \",rouge_gujarati_hindi['rouge-1'])\n",
    "print(\"ROUGE_2: \",rouge_gujarati_hindi['rouge-2'])\n",
    "print(\"ROUGE_L: \",rouge_gujarati_hindi['rouge-l'])"
   ]
  }
 ],
 "metadata": {
  "kaggle": {
   "accelerator": "nvidiaTeslaT4",
   "dataSources": [
    {
     "datasetId": 4811907,
     "sourceId": 8139153,
     "sourceType": "datasetVersion"
    }
   ],
   "dockerImageVersionId": 30683,
   "isGpuEnabled": true,
   "isInternetEnabled": true,
   "language": "python",
   "sourceType": "notebook"
  },
  "kernelspec": {
   "display_name": "Python 3 (ipykernel)",
   "language": "python",
   "name": "python3"
  },
  "language_info": {
   "codemirror_mode": {
    "name": "ipython",
    "version": 3
   },
   "file_extension": ".py",
   "mimetype": "text/x-python",
   "name": "python",
   "nbconvert_exporter": "python",
   "pygments_lexer": "ipython3",
   "version": "3.11.5"
  }
 },
 "nbformat": 4,
 "nbformat_minor": 4
}
