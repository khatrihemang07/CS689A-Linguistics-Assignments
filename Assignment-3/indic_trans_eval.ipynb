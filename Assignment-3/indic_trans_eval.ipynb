{
 "cells": [
  {
   "cell_type": "markdown",
   "metadata": {},
   "source": [
    "# Loading English Data"
   ]
  },
  {
   "cell_type": "code",
   "execution_count": 37,
   "metadata": {
    "execution": {
     "iopub.execute_input": "2024-04-17T13:21:05.067154Z",
     "iopub.status.busy": "2024-04-17T13:21:05.066807Z",
     "iopub.status.idle": "2024-04-17T13:21:05.089775Z",
     "shell.execute_reply": "2024-04-17T13:21:05.088899Z",
     "shell.execute_reply.started": "2024-04-17T13:21:05.067087Z"
    }
   },
   "outputs": [
    {
     "data": {
      "text/plain": [
       "['PM said that Ayushman Bharat Scheme will create an entirely new ecosystem which helps to create healthier India.\\n',\n",
       " 'India’s test was not only successful but in a way, India had demonstrated its might in the field of science and technology.\\n',\n",
       " 'Happy that the Bharat Ratna has been conferred on Bhupen Da.” the Prime Minister said.\\n',\n",
       " 'I congratulate these young friends and members of the school in Chandrapur, from the core of my heart.\\n',\n",
       " 'From the point of larger scale of operations and higher value addition, an investor is also attracted by a large domestic market size, availability of skilled labour and good physical infrastructure.\\n',\n",
       " 'During the operation, a sailor from Thailand Navy sacrificed his life.\\n',\n",
       " 'We wish to build land, sea and air connectivity to this dynamic region.\\n',\n",
       " 'This very month, 20 year old Vedangi Kulkarni from Pune became the fastest Asian to traverse the globe riding a bicycle.\\n',\n",
       " 'The two leaders will attend a public function to mark the commencement of work of India’s first high-speed rail project between Ahmedabad and Mumbai, on 14th of September.\\n',\n",
       " 'Almost all the countries in the world made Yoga Day their own.\\n']"
      ]
     },
     "execution_count": 37,
     "metadata": {},
     "output_type": "execute_result"
    }
   ],
   "source": [
    "with open('test_random.en','r',encoding='utf-8') as f:\n",
    "    english_sentences=f.readlines()\n",
    "\n",
    "english_sentences[:10]"
   ]
  },
  {
   "cell_type": "markdown",
   "metadata": {},
   "source": [
    "# Loading Hindi Data"
   ]
  },
  {
   "cell_type": "code",
   "execution_count": 38,
   "metadata": {
    "execution": {
     "iopub.execute_input": "2024-04-17T13:21:05.091825Z",
     "iopub.status.busy": "2024-04-17T13:21:05.091190Z",
     "iopub.status.idle": "2024-04-17T13:21:05.102621Z",
     "shell.execute_reply": "2024-04-17T13:21:05.101567Z",
     "shell.execute_reply.started": "2024-04-17T13:21:05.091789Z"
    }
   },
   "outputs": [
    {
     "data": {
      "text/plain": [
       "['प्रधानमंत्री ने कहा कि आयुष्\\u200dमान भारत योजना पूरी तरह से एक नई परस्\\u200dपर संबद्ध व्\\u200dयवस्\\u200dथा है जो स्\\u200dवस्\\u200dथ भारत बनाने में मदद करेगी।\\n',\n",
       " 'भारत का परीक्षण सफल रहा और एक तरह से कहें तो विज्ञान और तकनीक के क्षेत्र में भारत ने अपनी ताक़त का प्रदर्शन किया था।\\n',\n",
       " 'मुझे प्रसन्नता है कि भूपेन दा को भारत रत्न से सम्मानित किया गया।”\\n',\n",
       " 'मैं चंद्रपुर के स्कूल के लोगों को, इन मेरे नन्हे-मुन्हे साथियों को, ह्रदय से बहुत-बहुत बधाई देता हूँ।\\n',\n",
       " 'परिचालन के व्\\u200dयापक स्\\u200dतर और उच्\\u200dच मूल्\\u200dयवर्धन की दृष्टि से कोई भी निवेशक विशाल घरेलू बाजार, कौशल कामगारों की उपलब्\\u200dधता और बेहतर भौतिक बुनियादी ढांचे से भी आकर्षित होता है।\\n',\n",
       " 'इस पूरे operation में थाईलैंड की नौसेना के एक जवान को अपनी जान भी गँवानी पड़ी।\\n',\n",
       " 'हम इस क्षेत्र में भूमि, समुद्र और वायु संपर्क बनाना चाहते हैं।\\n',\n",
       " 'इसी महीने पुणे की एक 20 साल की बेटी वेदांगी कुलकर्णी साइकल से दुनिया का चक्कर लगाने वाली सबसे तेज एशियाई बन गयी हैं।\\n',\n",
       " 'दोनों नेता अहमदाबाद और मुंबई के बीच चलने वाली भारत की तेज गति रेल परियोजना के भारत में निर्माण के शुभांरभ के लिए 14 सितंबर को आयोजित एक सार्वजनिक समारोह में भाग लेंगे।\\n',\n",
       " 'दुनिया के क़रीब-क़रीब सभी देशों ने योग के इस अवसर को अपना अवसर बना दिया।\\n']"
      ]
     },
     "execution_count": 38,
     "metadata": {},
     "output_type": "execute_result"
    }
   ],
   "source": [
    "with open('test_random.hi','r',encoding='utf-8') as f:\n",
    "    hindi_sentences=f.readlines()\n",
    "\n",
    "hindi_sentences[:10]"
   ]
  },
  {
   "cell_type": "markdown",
   "metadata": {},
   "source": [
    "# Loading Gujarati Data"
   ]
  },
  {
   "cell_type": "code",
   "execution_count": 39,
   "metadata": {
    "execution": {
     "iopub.execute_input": "2024-04-17T13:21:05.103907Z",
     "iopub.status.busy": "2024-04-17T13:21:05.103635Z",
     "iopub.status.idle": "2024-04-17T13:21:05.113785Z",
     "shell.execute_reply": "2024-04-17T13:21:05.112873Z",
     "shell.execute_reply.started": "2024-04-17T13:21:05.103884Z"
    },
    "scrolled": true
   },
   "outputs": [
    {
     "data": {
      "text/plain": [
       "['પ્રધાનમંત્રીએ જણાવ્યું હતું કે, આયુષ્માન ભારત યોજના સંપૂર્ણપણે નવી ઇકોસિસ્ટમ ઊભી કરશે, જે સ્વસ્થ ભારતનું નિર્માણ કરવામાં મદદ કરશે.\\n',\n",
       " 'ભારતનું પરીક્ષણ સફળ રહ્યું અને એક રીતે કહીએ તો વિજ્ઞાન અને ટેક્નોલોજીના ક્ષેત્રમાં ભારતે પોતાની તાકાતનું પ્રદર્શન કર્યું હતું.\\n',\n",
       " 'મને ખુશી છે કે, ભૂપેન દાને ભારતરત્નથી સન્માનિત કરવામાં આવ્યાં છે.”\\n',\n",
       " 'હું ચંદ્રપુરની શાળાના લોકોને, મારા આ નાના સાથીઓને, હૃદયથી ખૂબ જ અભિનંદન આપું છું.\\n',\n",
       " 'વિશાળ પ્રમાણમાં કામગીરી અને ઉચ્ચ નફાકારકતાથી રોકાણકારો સ્થાનિક બજારનું કદ, કૌશલ્ય ધરાવતા કર્મચારીઓ અને સારા માળખાને પણ ઝંખે છે.\\n',\n",
       " 'આ પૂરી કાર્યવાહીમાં થાઇલેન્ડના નૌકાદળના એક જવાને પોતાનો જીવ પણ ગુમાવવો પડ્યો.\\n',\n",
       " 'અમે આ ગતિશીલ વિસ્તારમાં જમીન, દરિયાઈ અને હવાઈ જોડાણ ઊભું કરવા ઇચ્છીએ છીએ.\\n',\n",
       " 'આ મહિને પૂણેની એક 20 વર્ષની દિકરી વેદાંગી કુલકર્ણી સાઇકલથી દુનિયાનું ભ્રમણ કરનારી સૌથી ઝડપી એશિયાઇ બની ગઇ છે.\\n',\n",
       " 'બંને નેતાઓ 14 સપ્ટેમ્બરના રોજ અમદાવાદ અને મુંબઈ વચ્ચે ભારતનાપ્રથમ હાઈ-સ્પીડ રેલ પ્રોજેક્ટના કાર્યની શરૂઆત કરાવવા જાહેર સમારંભમાં હાજરી આપશે.\\n',\n",
       " 'દુનિયાના લગભગ બધા દેશોએ યોગના આ અવસરને પોતાનો અવસર બનાવી દીધો છે.\\n']"
      ]
     },
     "execution_count": 39,
     "metadata": {},
     "output_type": "execute_result"
    }
   ],
   "source": [
    "with open('test_random.gu','r',encoding='utf-8') as f:\n",
    "    gujarati_sentences=f.readlines()\n",
    "\n",
    "gujarati_sentences[:10]"
   ]
  },
  {
   "cell_type": "code",
   "execution_count": 40,
   "metadata": {},
   "outputs": [
    {
     "data": {
      "text/plain": [
       "['प्रधानमंत्री ने कहा कि आयुष्मान भारत योजना एक पूरी तरह से नया पारिस्थितिकी तंत्र बनाएगी जो स्वस्थ भारत बनाने में मदद करेगी।\\n',\n",
       " 'भारत का परीक्षण न केवल सफल रहा, बल्कि एक तरह से भारत ने विज्ञान और प्रौद्योगिकी के क्षेत्र में अपनी शक्ति का प्रदर्शन किया था।\\n',\n",
       " 'प्रधानमंत्री ने कहा कि खुशी है कि भूपेन दा को भारत रत्न से सम्मानित किया गया है।\\n',\n",
       " 'मैं चंद्रपुर के इन युवा दोस्तों और स्कूल के सदस्यों को दिल से बधाई देता हूं।\\n',\n",
       " 'बड़े पैमाने पर संचालन और उच्च मूल्यवर्धन के बिंदु से, एक निवेशक एक बड़े घरेलू बाजार के आकार, कुशल श्रम की उपलब्धता और अच्छे भौतिक बुनियादी ढांचे से भी आकर्षित होता है।\\n',\n",
       " 'ऑपरेशन के दौरान, थाईलैंड नौसेना के एक नाविक ने अपने जीवन का बलिदान दिया।\\n',\n",
       " 'हम इस गतिशील क्षेत्र के लिए भूमि, समुद्र और हवाई संपर्क का निर्माण करना चाहते हैं।\\n',\n",
       " 'इसी महीने, पुणे की 20 वर्षीय वेदांगी कुलकर्णी साइकिल चलाकर दुनिया को पार करने वाली सबसे तेज एशियाई बन गई।\\n',\n",
       " 'दोनों नेता 14 सितंबर को अहमदाबाद और मुंबई के बीच भारत की पहली हाई-स्पीड रेल परियोजना के काम की शुरुआत के अवसर पर एक सार्वजनिक समारोह में भाग लेंगे।\\n',\n",
       " 'दुनिया के लगभग सभी देशों ने योग दिवस को अपना बना लिया है।\\n']"
      ]
     },
     "execution_count": 40,
     "metadata": {},
     "output_type": "execute_result"
    }
   ],
   "source": [
    "with open('indic_trans/translated_english_hindi.txt','r',encoding='utf-8') as f:\n",
    "    translated_english_hindi=f.readlines()\n",
    "\n",
    "translated_english_hindi[:10]"
   ]
  },
  {
   "cell_type": "code",
   "execution_count": 41,
   "metadata": {},
   "outputs": [
    {
     "data": {
      "text/plain": [
       "['The Prime Minister said that the Ayushman Bharat scheme is a completely new interconnected system that will help create a healthy India.\\n',\n",
       " \"India's test was successful and in a way, India had demonstrated its strength in the field of science and technology.\\n\",\n",
       " 'I am happy that Bhupen Da has been awarded the Bharat Ratna.\\n',\n",
       " 'I heartily congratulate the school people of Chandrapur, these young friends of mine.\\n',\n",
       " 'In terms of scale of operations and high value addition, an investor is also attracted by the huge domestic market, availability of skilled workers, and better physical infrastructure.\\n',\n",
       " 'A Thai Navy jawan also lost his life in the entire operation.\\n',\n",
       " 'We want to build land, sea and air connectivity in the region.\\n',\n",
       " 'This month, Vedangi Kulkarni, a 20-year-old daughter from Pune, became the fastest Asian to cycle around the world.\\n',\n",
       " \"The two leaders will attend a public ceremony on 14 September to mark the start of construction in India of India's high-speed rail project running between Ahmedabad and Mumbai.\\n\",\n",
       " 'Almost all the countries of the world made this opportunity of yoga their own.\\n']"
      ]
     },
     "execution_count": 41,
     "metadata": {},
     "output_type": "execute_result"
    }
   ],
   "source": [
    "with open('indic_trans/translated_hindi_english.txt','r',encoding='utf-8') as f:\n",
    "    translated_hindi_english=f.readlines()\n",
    "\n",
    "translated_hindi_english[:10]"
   ]
  },
  {
   "cell_type": "code",
   "execution_count": 42,
   "metadata": {},
   "outputs": [
    {
     "data": {
      "text/plain": [
       "['પ્રધાનમંત્રીએ જણાવ્યું હતું કે આયુષ્માન ભારત યોજના એક સંપૂર્ણપણે નવી એકબીજા સાથે જોડાયેલી વ્યવસ્થા છે જે સ્વસ્થ ભારત બનાવવામાં મદદ કરશે.\\n',\n",
       " 'ભારતનું પરીક્ષણ સફળ રહ્યું હતું અને એક રીતે કહીએ તો, ભારતે વિજ્ઞાન અને ટેકનોલોજીના ક્ષેત્રમાં પોતાની શક્તિ દર્શાવી હતી.\\n',\n",
       " 'મને ખુશી છે કે ભૂપિન દા ને ભારત રત્ન એનાયત કરવામાં આવ્યો હતો.\\n',\n",
       " 'હું ચંદ્રપુરના શાળાના લોકોને, આ મારા નાના સાથીઓને હૃદયથી ખૂબ ખૂબ અભિનંદન આપું છું.\\n',\n",
       " 'વ્યાપક સ્તરની કામગીરી અને ઉચ્ચ મૂલ્ય વર્ધનાની દ્રષ્ટિએ કોઈપણ રોકાણકાર વિશાળ સ્થાનિક બજાર, કુશળ કામદારોની ઉપલબ્ધતા અને વધુ સારા ભૌતિક માળખાગત સુવિધાઓ દ્વારા પણ આકર્ષિત થાય છે.\\n',\n",
       " 'આ સમગ્ર ઓપરેશનમાં થાઇલેન્ડના નૌકાદળના એક જવાનનો પણ જીવ ગયો હતો.\\n',\n",
       " 'અમે આ પ્રદેશમાં જમીન, સમુદ્ર અને હવાઈ જોડાણો બનાવવા માંગીએ છીએ.\\n',\n",
       " 'આ મહિને પૂણેની 20 વર્ષીય પુત્રી વેદાંગી કુલકર્ણી સાયકલ દ્વારા વિશ્વની ભ્રમણકક્ષામાં સૌથી ઝડપી એશિયન બની છે.\\n',\n",
       " 'બંને નેતાઓ 14 સપ્ટેમ્બરના રોજ યોજાનારી જાહેર સભામાં ભાગ લેશે, જેમાં અમદાવાદ અને મુંબઈ વચ્ચે ભારતની હાઇ-સ્પીડ રેલ પ્રોજેક્ટના ભારતમાં નિર્માણની શરૂઆત કરવામાં આવશે.\\n',\n",
       " 'વિશ્વના લગભગ તમામ દેશોએ યોગની આ તકને તેમની તક બનાવી હતી.\\n']"
      ]
     },
     "execution_count": 42,
     "metadata": {},
     "output_type": "execute_result"
    }
   ],
   "source": [
    "with open('indic_trans/translated_hindi_gujarati.txt','r',encoding='utf-8') as f:\n",
    "    translated_hindi_gujarati=f.readlines()\n",
    "\n",
    "translated_hindi_gujarati[:10]"
   ]
  },
  {
   "cell_type": "code",
   "execution_count": 43,
   "metadata": {},
   "outputs": [
    {
     "data": {
      "text/plain": [
       "['प्रधानमंत्री ने कहा कि आयुष्मान भारत योजना एक पूरी तरह से नया पारिस्थितिकी तंत्र बनाएगी, जो एक स्वस्थ भारत बनाने में मदद करेगी।\\n',\n",
       " 'भारत का परीक्षण सफल रहा और एक तरह से भारत ने विज्ञान और प्रौद्योगिकी के क्षेत्र में अपनी ताकत का प्रदर्शन किया।\\n',\n",
       " 'मुझे खुशी है कि भूपन दान को भारत रत्न से सम्मानित किया गया है।\\n',\n",
       " 'मैं चंद्रपुर के स्कूल के लोगों, अपने इन छोटे साथियों को दिल से बहुत-बहुत बधाई देता हूं।\\n',\n",
       " 'बड़ी मात्रा में प्रदर्शन और उच्च लाभप्रदता निवेशकों को स्थानीय बाजार के आकार, कुशल कर्मचारियों और अच्छे बुनियादी ढांचे की भी तलाश में रखती है।\\n',\n",
       " 'इस पूरी कार्रवाई में थाईलैंड की नौसेना के एक जवान की भी जान चली गई।\\n',\n",
       " 'हम इस गतिशील क्षेत्र में भूमि, समुद्री और हवाई संपर्क स्थापित करना चाहते हैं।\\n',\n",
       " 'इस महीने पुणे की 20 वर्षीय बेटी वेदांगी कुलकर्णी साइकिल से दुनिया की यात्रा करने वाली सबसे तेज एशियाई बन गई हैं।\\n',\n",
       " 'दोनों नेता 14 सितंबर को अहमदाबाद और मुंबई के बीच भारत के पहले हाई-स्पीड रेल परियोजना पर काम शुरू करने के लिए एक सार्वजनिक समारोह में भाग लेंगे।\\n',\n",
       " 'दुनिया के लगभग सभी देशों ने योग के इस अवसर को अपना अवसर बना लिया है।\\n']"
      ]
     },
     "execution_count": 43,
     "metadata": {},
     "output_type": "execute_result"
    }
   ],
   "source": [
    "with open('indic_trans/translated_gujarati_hindi.txt','r',encoding='utf-8') as f:\n",
    "    translated_gujarati_hindi=f.readlines()\n",
    "\n",
    "translated_gujarati_hindi[:10]"
   ]
  },
  {
   "cell_type": "markdown",
   "metadata": {},
   "source": [
    "# BLEU Score"
   ]
  },
  {
   "cell_type": "code",
   "execution_count": 44,
   "metadata": {
    "scrolled": true
   },
   "outputs": [
    {
     "name": "stdout",
     "output_type": "stream",
     "text": [
      "Requirement already satisfied: indic-nlp-library in c:\\users\\din_djarin\\anaconda3\\lib\\site-packages (0.92)\n",
      "Requirement already satisfied: sphinx-argparse in c:\\users\\din_djarin\\anaconda3\\lib\\site-packages (from indic-nlp-library) (0.4.0)\n",
      "Requirement already satisfied: sphinx-rtd-theme in c:\\users\\din_djarin\\anaconda3\\lib\\site-packages (from indic-nlp-library) (2.0.0)\n",
      "Requirement already satisfied: morfessor in c:\\users\\din_djarin\\anaconda3\\lib\\site-packages (from indic-nlp-library) (2.0.6)\n",
      "Requirement already satisfied: pandas in c:\\users\\din_djarin\\anaconda3\\lib\\site-packages (from indic-nlp-library) (2.0.3)\n",
      "Requirement already satisfied: numpy in c:\\users\\din_djarin\\anaconda3\\lib\\site-packages (from indic-nlp-library) (1.24.3)\n",
      "Requirement already satisfied: python-dateutil>=2.8.2 in c:\\users\\din_djarin\\anaconda3\\lib\\site-packages (from pandas->indic-nlp-library) (2.8.2)\n",
      "Requirement already satisfied: pytz>=2020.1 in c:\\users\\din_djarin\\anaconda3\\lib\\site-packages (from pandas->indic-nlp-library) (2023.3.post1)\n",
      "Requirement already satisfied: tzdata>=2022.1 in c:\\users\\din_djarin\\anaconda3\\lib\\site-packages (from pandas->indic-nlp-library) (2023.3)\n",
      "Requirement already satisfied: sphinx>=1.2.0 in c:\\users\\din_djarin\\anaconda3\\lib\\site-packages (from sphinx-argparse->indic-nlp-library) (5.0.2)\n",
      "Requirement already satisfied: docutils<0.21 in c:\\users\\din_djarin\\anaconda3\\lib\\site-packages (from sphinx-rtd-theme->indic-nlp-library) (0.18.1)\n",
      "Requirement already satisfied: sphinxcontrib-jquery<5,>=4 in c:\\users\\din_djarin\\anaconda3\\lib\\site-packages (from sphinx-rtd-theme->indic-nlp-library) (4.1)\n",
      "Requirement already satisfied: six>=1.5 in c:\\users\\din_djarin\\anaconda3\\lib\\site-packages (from python-dateutil>=2.8.2->pandas->indic-nlp-library) (1.16.0)\n",
      "Requirement already satisfied: sphinxcontrib-applehelp in c:\\users\\din_djarin\\anaconda3\\lib\\site-packages (from sphinx>=1.2.0->sphinx-argparse->indic-nlp-library) (1.0.2)\n",
      "Requirement already satisfied: sphinxcontrib-devhelp in c:\\users\\din_djarin\\anaconda3\\lib\\site-packages (from sphinx>=1.2.0->sphinx-argparse->indic-nlp-library) (1.0.2)\n",
      "Requirement already satisfied: sphinxcontrib-jsmath in c:\\users\\din_djarin\\anaconda3\\lib\\site-packages (from sphinx>=1.2.0->sphinx-argparse->indic-nlp-library) (1.0.1)\n",
      "Requirement already satisfied: sphinxcontrib-htmlhelp>=2.0.0 in c:\\users\\din_djarin\\anaconda3\\lib\\site-packages (from sphinx>=1.2.0->sphinx-argparse->indic-nlp-library) (2.0.0)\n",
      "Requirement already satisfied: sphinxcontrib-serializinghtml>=1.1.5 in c:\\users\\din_djarin\\anaconda3\\lib\\site-packages (from sphinx>=1.2.0->sphinx-argparse->indic-nlp-library) (1.1.5)\n",
      "Requirement already satisfied: sphinxcontrib-qthelp in c:\\users\\din_djarin\\anaconda3\\lib\\site-packages (from sphinx>=1.2.0->sphinx-argparse->indic-nlp-library) (1.0.3)\n",
      "Requirement already satisfied: Jinja2>=2.3 in c:\\users\\din_djarin\\anaconda3\\lib\\site-packages (from sphinx>=1.2.0->sphinx-argparse->indic-nlp-library) (3.1.2)\n",
      "Requirement already satisfied: Pygments>=2.0 in c:\\users\\din_djarin\\anaconda3\\lib\\site-packages (from sphinx>=1.2.0->sphinx-argparse->indic-nlp-library) (2.15.1)\n",
      "Requirement already satisfied: snowballstemmer>=1.1 in c:\\users\\din_djarin\\anaconda3\\lib\\site-packages (from sphinx>=1.2.0->sphinx-argparse->indic-nlp-library) (2.2.0)\n",
      "Requirement already satisfied: babel>=1.3 in c:\\users\\din_djarin\\anaconda3\\lib\\site-packages (from sphinx>=1.2.0->sphinx-argparse->indic-nlp-library) (2.11.0)\n",
      "Requirement already satisfied: alabaster<0.8,>=0.7 in c:\\users\\din_djarin\\anaconda3\\lib\\site-packages (from sphinx>=1.2.0->sphinx-argparse->indic-nlp-library) (0.7.12)\n",
      "Requirement already satisfied: imagesize in c:\\users\\din_djarin\\anaconda3\\lib\\site-packages (from sphinx>=1.2.0->sphinx-argparse->indic-nlp-library) (1.4.1)\n",
      "Requirement already satisfied: requests>=2.5.0 in c:\\users\\din_djarin\\anaconda3\\lib\\site-packages (from sphinx>=1.2.0->sphinx-argparse->indic-nlp-library) (2.31.0)\n",
      "Requirement already satisfied: packaging in c:\\users\\din_djarin\\anaconda3\\lib\\site-packages (from sphinx>=1.2.0->sphinx-argparse->indic-nlp-library) (23.1)\n",
      "Requirement already satisfied: colorama>=0.3.5 in c:\\users\\din_djarin\\anaconda3\\lib\\site-packages (from sphinx>=1.2.0->sphinx-argparse->indic-nlp-library) (0.4.6)\n",
      "Requirement already satisfied: MarkupSafe>=2.0 in c:\\users\\din_djarin\\anaconda3\\lib\\site-packages (from Jinja2>=2.3->sphinx>=1.2.0->sphinx-argparse->indic-nlp-library) (2.1.1)\n",
      "Requirement already satisfied: charset-normalizer<4,>=2 in c:\\users\\din_djarin\\anaconda3\\lib\\site-packages (from requests>=2.5.0->sphinx>=1.2.0->sphinx-argparse->indic-nlp-library) (2.0.4)\n",
      "Requirement already satisfied: idna<4,>=2.5 in c:\\users\\din_djarin\\anaconda3\\lib\\site-packages (from requests>=2.5.0->sphinx>=1.2.0->sphinx-argparse->indic-nlp-library) (3.4)\n",
      "Requirement already satisfied: urllib3<3,>=1.21.1 in c:\\users\\din_djarin\\anaconda3\\lib\\site-packages (from requests>=2.5.0->sphinx>=1.2.0->sphinx-argparse->indic-nlp-library) (1.26.16)\n",
      "Requirement already satisfied: certifi>=2017.4.17 in c:\\users\\din_djarin\\anaconda3\\lib\\site-packages (from requests>=2.5.0->sphinx>=1.2.0->sphinx-argparse->indic-nlp-library) (2023.7.22)\n"
     ]
    },
    {
     "name": "stderr",
     "output_type": "stream",
     "text": [
      "WARNING: There was an error checking the latest version of pip.\n"
     ]
    },
    {
     "name": "stdout",
     "output_type": "stream",
     "text": [
      "Requirement already satisfied: nltk in c:\\users\\din_djarin\\anaconda3\\lib\\site-packages (3.8.1)\n",
      "Requirement already satisfied: click in c:\\users\\din_djarin\\anaconda3\\lib\\site-packages (from nltk) (8.0.4)\n",
      "Requirement already satisfied: joblib in c:\\users\\din_djarin\\anaconda3\\lib\\site-packages (from nltk) (1.2.0)\n",
      "Requirement already satisfied: regex>=2021.8.3 in c:\\users\\din_djarin\\anaconda3\\lib\\site-packages (from nltk) (2022.7.9)\n",
      "Requirement already satisfied: tqdm in c:\\users\\din_djarin\\anaconda3\\lib\\site-packages (from nltk) (4.65.0)\n",
      "Requirement already satisfied: colorama in c:\\users\\din_djarin\\anaconda3\\lib\\site-packages (from click->nltk) (0.4.6)\n"
     ]
    },
    {
     "name": "stderr",
     "output_type": "stream",
     "text": [
      "WARNING: There was an error checking the latest version of pip.\n",
      "<frozen runpy>:128: RuntimeWarning: 'nltk.downloader' found in sys.modules after import of package 'nltk', but prior to execution of 'nltk.downloader'; this may result in unpredictable behaviour\n",
      "[nltk_data] Downloading package punkt to\n",
      "[nltk_data]     C:\\Users\\Din_Djarin\\AppData\\Roaming\\nltk_data...\n",
      "[nltk_data]   Package punkt is already up-to-date!\n"
     ]
    }
   ],
   "source": [
    "!pip install indic-nlp-library\n",
    "!pip install nltk\n",
    "!python -m nltk.downloader punkt"
   ]
  },
  {
   "cell_type": "code",
   "execution_count": 45,
   "metadata": {
    "execution": {
     "iopub.execute_input": "2024-04-17T14:23:10.788051Z",
     "iopub.status.busy": "2024-04-17T14:23:10.787450Z",
     "iopub.status.idle": "2024-04-17T14:23:11.674786Z",
     "shell.execute_reply": "2024-04-17T14:23:11.673932Z",
     "shell.execute_reply.started": "2024-04-17T14:23:10.788018Z"
    }
   },
   "outputs": [],
   "source": [
    "import nltk\n",
    "from nltk.tokenize import word_tokenize\n",
    "from nltk.translate.bleu_score import corpus_bleu,sentence_bleu\n",
    "from indicnlp.tokenize import indic_tokenize  \n",
    "\n",
    "def compute_bleu_e(true_sentences,translated_sentences):\n",
    "    corpus_bleu_a=corpus_bleu([[a] for a in true_sentences],translated_sentences)\n",
    "    true_tokens=[word_tokenize(t) for t in true_sentences]\n",
    "    translated_tokens=[word_tokenize(t) for t in translated_sentences]\n",
    "    bleu_scores = []\n",
    "    for a, b in zip(true_tokens, translated_tokens):\n",
    "        score = sentence_bleu([a], b)\n",
    "        bleu_scores.append(score)\n",
    "    average_bleu = sum(bleu_scores) / len(bleu_scores)\n",
    "    return [corpus_bleu_a,bleu_scores,average_bleu]\n",
    "\n",
    "def compute_bleu_i(true_sentences,translated_sentences):\n",
    "    corpus_bleu_a=corpus_bleu([[a] for a in true_sentences],translated_sentences)\n",
    "    true_tokens=[indic_tokenize.trivial_tokenize(t) for t in true_sentences]\n",
    "    translated_tokens=[indic_tokenize.trivial_tokenize(t) for t in translated_sentences]\n",
    "    bleu_scores = []\n",
    "    for a, b in zip(true_tokens, translated_tokens):\n",
    "        score = sentence_bleu([a], b)\n",
    "        bleu_scores.append(score)\n",
    "    average_bleu = sum(bleu_scores) / len(bleu_scores)\n",
    "    return [corpus_bleu_a,bleu_scores,average_bleu]\n",
    "    "
   ]
  },
  {
   "cell_type": "markdown",
   "metadata": {},
   "source": [
    "# English -> Hindi"
   ]
  },
  {
   "cell_type": "code",
   "execution_count": 46,
   "metadata": {
    "execution": {
     "iopub.execute_input": "2024-04-17T14:53:17.251284Z",
     "iopub.status.busy": "2024-04-17T14:53:17.250463Z",
     "iopub.status.idle": "2024-04-17T14:53:17.890877Z",
     "shell.execute_reply": "2024-04-17T14:53:17.889852Z",
     "shell.execute_reply.started": "2024-04-17T14:53:17.251248Z"
    }
   },
   "outputs": [
    {
     "name": "stdout",
     "output_type": "stream",
     "text": [
      "ENGLISH -> HINDI\n",
      "Corpus BLEU:  0.6958848716370625\n",
      "Sentence BLEU of first 5 sentences:  [0.4115167991342047, 0.3387144423286913, 0.5520516129306315, 2.6055163239397093e-78, 0.29454018582563574]\n",
      "Average of Sentence BLEU score:  0.3061374841720625\n"
     ]
    }
   ],
   "source": [
    "result=compute_bleu_i(hindi_sentences,translated_english_hindi)\n",
    "print(\"ENGLISH -> HINDI\")\n",
    "print(\"Corpus BLEU: \",result[0])\n",
    "print(\"Sentence BLEU of first 5 sentences: \",result[1][:5])\n",
    "print(\"Average of Sentence BLEU score: \",result[2])"
   ]
  },
  {
   "cell_type": "markdown",
   "metadata": {},
   "source": [
    "# Hindi -> English"
   ]
  },
  {
   "cell_type": "code",
   "execution_count": 47,
   "metadata": {
    "execution": {
     "iopub.execute_input": "2024-04-17T14:53:19.399224Z",
     "iopub.status.busy": "2024-04-17T14:53:19.398226Z",
     "iopub.status.idle": "2024-04-17T14:53:20.041534Z",
     "shell.execute_reply": "2024-04-17T14:53:20.040381Z",
     "shell.execute_reply.started": "2024-04-17T14:53:19.399180Z"
    }
   },
   "outputs": [
    {
     "name": "stdout",
     "output_type": "stream",
     "text": [
      "HINDI -> English\n",
      "Corpus BLEU:  0.7456003001464356\n",
      "Sentence BLEU of first 5 sentences:  [7.1692797559936485e-155, 0.5630909754551215, 3.0876674964724654e-78, 3.1866981492508465e-78, 0.43804013532777714]\n",
      "Average of Sentence BLEU score:  0.3361028547619003\n"
     ]
    }
   ],
   "source": [
    "result=compute_bleu_e(english_sentences,translated_hindi_english)\n",
    "print(\"HINDI -> English\")\n",
    "print(\"Corpus BLEU: \",result[0])\n",
    "print(\"Sentence BLEU of first 5 sentences: \",result[1][:5])\n",
    "print(\"Average of Sentence BLEU score: \",result[2])"
   ]
  },
  {
   "cell_type": "markdown",
   "metadata": {},
   "source": [
    "# Hindi -> Gujarati"
   ]
  },
  {
   "cell_type": "code",
   "execution_count": 48,
   "metadata": {
    "execution": {
     "iopub.execute_input": "2024-04-17T14:53:21.404026Z",
     "iopub.status.busy": "2024-04-17T14:53:21.403135Z",
     "iopub.status.idle": "2024-04-17T14:53:21.460598Z",
     "shell.execute_reply": "2024-04-17T14:53:21.459132Z",
     "shell.execute_reply.started": "2024-04-17T14:53:21.403994Z"
    }
   },
   "outputs": [
    {
     "name": "stdout",
     "output_type": "stream",
     "text": [
      "HINDI -> GUJARATI\n",
      "Corpus BLEU:  0.6425323368660346\n",
      "Sentence BLEU of first 5 sentences:  [0.2898497051727735, 0.33813434051244196, 0.18207052811092134, 0.33948768466862395, 3.060092786470458e-78]\n",
      "Average of Sentence BLEU score:  0.18509954184620053\n"
     ]
    }
   ],
   "source": [
    "result=compute_bleu_i(gujarati_sentences,translated_hindi_gujarati)\n",
    "print(\"HINDI -> GUJARATI\")\n",
    "print(\"Corpus BLEU: \",result[0])\n",
    "print(\"Sentence BLEU of first 5 sentences: \",result[1][:5])\n",
    "print(\"Average of Sentence BLEU score: \",result[2])"
   ]
  },
  {
   "cell_type": "markdown",
   "metadata": {},
   "source": [
    "# Gujarati -> Hindi"
   ]
  },
  {
   "cell_type": "code",
   "execution_count": 49,
   "metadata": {
    "execution": {
     "iopub.execute_input": "2024-04-17T14:53:31.742346Z",
     "iopub.status.busy": "2024-04-17T14:53:31.741910Z",
     "iopub.status.idle": "2024-04-17T14:53:31.799907Z",
     "shell.execute_reply": "2024-04-17T14:53:31.798614Z",
     "shell.execute_reply.started": "2024-04-17T14:53:31.742315Z"
    }
   },
   "outputs": [
    {
     "name": "stdout",
     "output_type": "stream",
     "text": [
      "GUJARATI -> HINDI\n",
      "Corpus BLEU:  0.6791887588685278\n",
      "Sentence BLEU of first 5 sentences:  [0.3939266175743415, 0.4537272378934471, 0.4333207865423752, 0.41101220744238187, 2.1134178011102557e-78]\n",
      "Average of Sentence BLEU score:  0.2810662454904686\n"
     ]
    }
   ],
   "source": [
    "result=compute_bleu_i(hindi_sentences,translated_gujarati_hindi)\n",
    "print(\"GUJARATI -> HINDI\")\n",
    "print(\"Corpus BLEU: \",result[0])\n",
    "print(\"Sentence BLEU of first 5 sentences: \",result[1][:5])\n",
    "print(\"Average of Sentence BLEU score: \",result[2])"
   ]
  },
  {
   "cell_type": "markdown",
   "metadata": {},
   "source": [
    "# ROUGE Score"
   ]
  },
  {
   "cell_type": "code",
   "execution_count": 50,
   "metadata": {
    "execution": {
     "iopub.execute_input": "2024-04-17T14:53:33.126810Z",
     "iopub.status.busy": "2024-04-17T14:53:33.125809Z",
     "iopub.status.idle": "2024-04-17T14:53:33.133325Z",
     "shell.execute_reply": "2024-04-17T14:53:33.132546Z",
     "shell.execute_reply.started": "2024-04-17T14:53:33.126764Z"
    }
   },
   "outputs": [],
   "source": [
    "from rouge import Rouge\n",
    "def calculate_rouge_score(original_sentences,translated_sentences):\n",
    "    rouge=Rouge()\n",
    "    scores=rouge.get_scores(translated_sentences,original_sentences,avg=True)\n",
    "    return scores"
   ]
  },
  {
   "cell_type": "markdown",
   "metadata": {},
   "source": [
    "## ROUGE Score for English -> Hindi"
   ]
  },
  {
   "cell_type": "code",
   "execution_count": 51,
   "metadata": {
    "execution": {
     "iopub.execute_input": "2024-04-17T14:53:34.482997Z",
     "iopub.status.busy": "2024-04-17T14:53:34.482611Z",
     "iopub.status.idle": "2024-04-17T14:53:34.541451Z",
     "shell.execute_reply": "2024-04-17T14:53:34.540070Z",
     "shell.execute_reply.started": "2024-04-17T14:53:34.482966Z"
    }
   },
   "outputs": [
    {
     "name": "stdout",
     "output_type": "stream",
     "text": [
      "ROUGE Scores for English -> Hindi: \n",
      "ROUGE_1:  {'r': 0.6180230660104465, 'p': 0.622760183056023, 'f': 0.6171080783770356}\n",
      "ROUGE_2:  {'r': 0.38202586099495855, 'p': 0.3843326271969145, 'f': 0.38119839441467945}\n",
      "ROUGE_L:  {'r': 0.5821689199264856, 'p': 0.5869909320182457, 'f': 0.581528357427498}\n"
     ]
    }
   ],
   "source": [
    "rouge_english_hindi=calculate_rouge_score(hindi_sentences,translated_english_hindi)\n",
    "print(\"ROUGE Scores for English -> Hindi: \")\n",
    "print(\"ROUGE_1: \",rouge_english_hindi['rouge-1'])\n",
    "print(\"ROUGE_2: \",rouge_english_hindi['rouge-2'])\n",
    "print(\"ROUGE_L: \",rouge_english_hindi['rouge-l'])"
   ]
  },
  {
   "cell_type": "markdown",
   "metadata": {},
   "source": [
    "## ROUGE Score for Hindi -> English"
   ]
  },
  {
   "cell_type": "code",
   "execution_count": 52,
   "metadata": {
    "execution": {
     "iopub.execute_input": "2024-04-17T14:53:38.590566Z",
     "iopub.status.busy": "2024-04-17T14:53:38.590214Z",
     "iopub.status.idle": "2024-04-17T14:53:38.648112Z",
     "shell.execute_reply": "2024-04-17T14:53:38.646845Z",
     "shell.execute_reply.started": "2024-04-17T14:53:38.590542Z"
    }
   },
   "outputs": [
    {
     "name": "stdout",
     "output_type": "stream",
     "text": [
      "ROUGE Scores for English -> Hindi: \n",
      "ROUGE_1:  {'r': 0.6810899893520705, 'p': 0.6791579569733635, 'f': 0.6770380125358277}\n",
      "ROUGE_2:  {'r': 0.4466146250489001, 'p': 0.44187346510948927, 'f': 0.44180396425463625}\n",
      "ROUGE_L:  {'r': 0.6480434421695863, 'p': 0.6457314144959571, 'f': 0.643993263277643}\n"
     ]
    }
   ],
   "source": [
    "rouge_hindi_english=calculate_rouge_score(english_sentences,translated_hindi_english)\n",
    "print(\"ROUGE Scores for English -> Hindi: \")\n",
    "print(\"ROUGE_1: \",rouge_hindi_english['rouge-1'])\n",
    "print(\"ROUGE_2: \",rouge_hindi_english['rouge-2'])\n",
    "print(\"ROUGE_L: \",rouge_hindi_english['rouge-l'])"
   ]
  },
  {
   "cell_type": "markdown",
   "metadata": {},
   "source": [
    "## ROUGE Score for Hindi -> Gujarati"
   ]
  },
  {
   "cell_type": "code",
   "execution_count": 53,
   "metadata": {
    "execution": {
     "iopub.execute_input": "2024-04-17T14:53:39.055471Z",
     "iopub.status.busy": "2024-04-17T14:53:39.055078Z",
     "iopub.status.idle": "2024-04-17T14:53:39.112417Z",
     "shell.execute_reply": "2024-04-17T14:53:39.111113Z",
     "shell.execute_reply.started": "2024-04-17T14:53:39.055443Z"
    }
   },
   "outputs": [
    {
     "name": "stdout",
     "output_type": "stream",
     "text": [
      "ROUGE Scores for Hindi -> Gujarati: \n",
      "ROUGE_1:  {'r': 0.5344631358474015, 'p': 0.5397244795788011, 'f': 0.5343221049068991}\n",
      "ROUGE_2:  {'r': 0.2848553867670793, 'p': 0.28730232911208087, 'f': 0.2845593280378957}\n",
      "ROUGE_L:  {'r': 0.5124065596694927, 'p': 0.5175574848095437, 'f': 0.5123666970235473}\n"
     ]
    }
   ],
   "source": [
    "rouge_hindi_gujarati=calculate_rouge_score(gujarati_sentences,translated_hindi_gujarati)\n",
    "print(\"ROUGE Scores for Hindi -> Gujarati: \")\n",
    "print(\"ROUGE_1: \",rouge_hindi_gujarati['rouge-1'])\n",
    "print(\"ROUGE_2: \",rouge_hindi_gujarati['rouge-2'])\n",
    "print(\"ROUGE_L: \",rouge_hindi_gujarati['rouge-l'])"
   ]
  },
  {
   "cell_type": "markdown",
   "metadata": {},
   "source": [
    "## ROUGE Score for Gujarati -> Hindi"
   ]
  },
  {
   "cell_type": "code",
   "execution_count": 54,
   "metadata": {
    "execution": {
     "iopub.execute_input": "2024-04-17T14:53:40.233555Z",
     "iopub.status.busy": "2024-04-17T14:53:40.233168Z",
     "iopub.status.idle": "2024-04-17T14:53:40.287608Z",
     "shell.execute_reply": "2024-04-17T14:53:40.286338Z",
     "shell.execute_reply.started": "2024-04-17T14:53:40.233526Z"
    }
   },
   "outputs": [
    {
     "name": "stdout",
     "output_type": "stream",
     "text": [
      "ROUGE Scores for English -> Hindi: \n",
      "ROUGE_1:  {'r': 0.6004839754466076, 'p': 0.6025799730601167, 'f': 0.5981770725723325}\n",
      "ROUGE_2:  {'r': 0.3626843485366424, 'p': 0.36389545607381113, 'f': 0.36122687561637495}\n",
      "ROUGE_L:  {'r': 0.5667995130985415, 'p': 0.5692939284031164, 'f': 0.5649407535696914}\n"
     ]
    }
   ],
   "source": [
    "rouge_gujarati_hindi=calculate_rouge_score(hindi_sentences,translated_gujarati_hindi)\n",
    "print(\"ROUGE Scores for English -> Hindi: \")\n",
    "print(\"ROUGE_1: \",rouge_gujarati_hindi['rouge-1'])\n",
    "print(\"ROUGE_2: \",rouge_gujarati_hindi['rouge-2'])\n",
    "print(\"ROUGE_L: \",rouge_gujarati_hindi['rouge-l'])"
   ]
  }
 ],
 "metadata": {
  "kaggle": {
   "accelerator": "nvidiaTeslaT4",
   "dataSources": [
    {
     "datasetId": 4811907,
     "sourceId": 8139153,
     "sourceType": "datasetVersion"
    }
   ],
   "dockerImageVersionId": 30683,
   "isGpuEnabled": true,
   "isInternetEnabled": true,
   "language": "python",
   "sourceType": "notebook"
  },
  "kernelspec": {
   "display_name": "Python 3 (ipykernel)",
   "language": "python",
   "name": "python3"
  },
  "language_info": {
   "codemirror_mode": {
    "name": "ipython",
    "version": 3
   },
   "file_extension": ".py",
   "mimetype": "text/x-python",
   "name": "python",
   "nbconvert_exporter": "python",
   "pygments_lexer": "ipython3",
   "version": "3.11.5"
  }
 },
 "nbformat": 4,
 "nbformat_minor": 4
}
